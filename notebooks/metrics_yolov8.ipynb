{
 "cells": [
  {
   "cell_type": "code",
   "execution_count": 1,
   "metadata": {},
   "outputs": [],
   "source": [
    "from torchvision.ops import box_iou\n",
    "import os\n",
    "import pandas as pd\n",
    "import json\n",
    "import torch\n",
    "import seaborn as sns"
   ]
  },
  {
   "cell_type": "code",
   "execution_count": 2,
   "metadata": {},
   "outputs": [],
   "source": [
    "BASE_DIR = \"/home/safal/raavan/smartphone_microscopy/AI_assisted_microscopy_system/\"\n",
    "sample_types = [\n",
    "    \"smartphone_sample\",\n",
    "    \"smartphone_reference\",\n",
    "    \"brightfield_sample\",\n",
    "    \"brightfield_reference\",\n",
    "]\n",
    "model_type = \"faster_rcnn\"\n",
    "sample_type=\"brightfield_sample\""
   ]
  },
  {
   "cell_type": "code",
   "execution_count": 3,
   "metadata": {},
   "outputs": [],
   "source": [
    "gt_annotations_file = os.path.join(\n",
    "    BASE_DIR,\n",
    "    \"cysts_dataset_all\",\n",
    "    sample_type,\n",
    "    \"fold_5\",\n",
    "    f\"{sample_type}_coco_annos_val.json\",\n",
    ")\n",
    "pred_annotations_file = os.path.join(\n",
    "    BASE_DIR,\n",
    "    \"outputs\",\n",
    "    sample_type,\n",
    "    model_type,\n",
    "    \"fold_5\",\n",
    "    # \"mmdetection_cysts\",\n",
    "    # f\"yolov8_{sample_type}_fold_5\",\n",
    "    \"results.bbox.json\"\n",
    ")\n"
   ]
  },
  {
   "cell_type": "code",
   "execution_count": 4,
   "metadata": {},
   "outputs": [],
   "source": [
    "gt_annos = json.load(open(gt_annotations_file))"
   ]
  },
  {
   "cell_type": "code",
   "execution_count": 5,
   "metadata": {},
   "outputs": [],
   "source": [
    "pred_annos_df = pd.read_json(pred_annotations_file)"
   ]
  },
  {
   "cell_type": "code",
   "execution_count": 6,
   "metadata": {},
   "outputs": [],
   "source": [
    "# change bbox format to x1, y1, x2, y2\n",
    "pred_annos_df[\"bbox\"] = pred_annos_df[\"bbox\"].apply(\n",
    "    lambda x: [x[0], x[1], x[0] + x[2], x[1] + x[3]]\n",
    ")"
   ]
  },
  {
   "cell_type": "code",
   "execution_count": 7,
   "metadata": {},
   "outputs": [
    {
     "data": {
      "text/plain": [
       "{'id': 1,\n",
       " 'file_name': '/home/safal/raavan/smartphone_microscopy/AI_assisted_microscopy_system/cysts_dataset_all/brightfield_sample/train/BS0001.jpg',\n",
       " 'height': 480,\n",
       " 'width': 640}"
      ]
     },
     "execution_count": 7,
     "metadata": {},
     "output_type": "execute_result"
    }
   ],
   "source": [
    "gt_annos['images'][0]"
   ]
  },
  {
   "cell_type": "code",
   "execution_count": 8,
   "metadata": {},
   "outputs": [],
   "source": [
    "# change gt_annos id value to image names\n",
    "for i in range(len(gt_annos[\"images\"])):\n",
    "    gt_annos[\"images\"][i][\"image_id\"] = gt_annos[\"images\"][i][\"file_name\"].rsplit(\"/\")[-1].split(\".\")[0]\n"
   ]
  },
  {
   "cell_type": "code",
   "execution_count": 9,
   "metadata": {},
   "outputs": [
    {
     "data": {
      "text/plain": [
       "{'id': 1,\n",
       " 'file_name': '/home/safal/raavan/smartphone_microscopy/AI_assisted_microscopy_system/cysts_dataset_all/brightfield_sample/train/BS0001.jpg',\n",
       " 'height': 480,\n",
       " 'width': 640,\n",
       " 'image_id': 'BS0001'}"
      ]
     },
     "execution_count": 9,
     "metadata": {},
     "output_type": "execute_result"
    }
   ],
   "source": [
    "gt_annos['images'][0]"
   ]
  },
  {
   "cell_type": "code",
   "execution_count": 10,
   "metadata": {},
   "outputs": [],
   "source": [
    "images_df = pd.DataFrame(gt_annos[\"images\"])\n",
    "gt_annos_df = pd.DataFrame(gt_annos[\"annotations\"])"
   ]
  },
  {
   "cell_type": "code",
   "execution_count": 11,
   "metadata": {},
   "outputs": [
    {
     "data": {
      "text/html": [
       "<div>\n",
       "<style scoped>\n",
       "    .dataframe tbody tr th:only-of-type {\n",
       "        vertical-align: middle;\n",
       "    }\n",
       "\n",
       "    .dataframe tbody tr th {\n",
       "        vertical-align: top;\n",
       "    }\n",
       "\n",
       "    .dataframe thead th {\n",
       "        text-align: right;\n",
       "    }\n",
       "</style>\n",
       "<table border=\"1\" class=\"dataframe\">\n",
       "  <thead>\n",
       "    <tr style=\"text-align: right;\">\n",
       "      <th></th>\n",
       "      <th>id</th>\n",
       "      <th>file_name</th>\n",
       "      <th>height</th>\n",
       "      <th>width</th>\n",
       "      <th>image_id</th>\n",
       "    </tr>\n",
       "  </thead>\n",
       "  <tbody>\n",
       "    <tr>\n",
       "      <th>0</th>\n",
       "      <td>1</td>\n",
       "      <td>/home/safal/raavan/smartphone_microscopy/AI_as...</td>\n",
       "      <td>480</td>\n",
       "      <td>640</td>\n",
       "      <td>BS0001</td>\n",
       "    </tr>\n",
       "    <tr>\n",
       "      <th>1</th>\n",
       "      <td>4</td>\n",
       "      <td>/home/safal/raavan/smartphone_microscopy/AI_as...</td>\n",
       "      <td>480</td>\n",
       "      <td>640</td>\n",
       "      <td>BS0004</td>\n",
       "    </tr>\n",
       "    <tr>\n",
       "      <th>2</th>\n",
       "      <td>13</td>\n",
       "      <td>/home/safal/raavan/smartphone_microscopy/AI_as...</td>\n",
       "      <td>480</td>\n",
       "      <td>640</td>\n",
       "      <td>BS0013</td>\n",
       "    </tr>\n",
       "    <tr>\n",
       "      <th>3</th>\n",
       "      <td>14</td>\n",
       "      <td>/home/safal/raavan/smartphone_microscopy/AI_as...</td>\n",
       "      <td>480</td>\n",
       "      <td>640</td>\n",
       "      <td>BS0014</td>\n",
       "    </tr>\n",
       "    <tr>\n",
       "      <th>4</th>\n",
       "      <td>20</td>\n",
       "      <td>/home/safal/raavan/smartphone_microscopy/AI_as...</td>\n",
       "      <td>480</td>\n",
       "      <td>640</td>\n",
       "      <td>BS0020</td>\n",
       "    </tr>\n",
       "    <tr>\n",
       "      <th>...</th>\n",
       "      <td>...</td>\n",
       "      <td>...</td>\n",
       "      <td>...</td>\n",
       "      <td>...</td>\n",
       "      <td>...</td>\n",
       "    </tr>\n",
       "    <tr>\n",
       "      <th>196</th>\n",
       "      <td>1040</td>\n",
       "      <td>/home/safal/raavan/smartphone_microscopy/AI_as...</td>\n",
       "      <td>480</td>\n",
       "      <td>640</td>\n",
       "      <td>BS0983</td>\n",
       "    </tr>\n",
       "    <tr>\n",
       "      <th>197</th>\n",
       "      <td>1044</td>\n",
       "      <td>/home/safal/raavan/smartphone_microscopy/AI_as...</td>\n",
       "      <td>480</td>\n",
       "      <td>640</td>\n",
       "      <td>BS0987</td>\n",
       "    </tr>\n",
       "    <tr>\n",
       "      <th>198</th>\n",
       "      <td>1046</td>\n",
       "      <td>/home/safal/raavan/smartphone_microscopy/AI_as...</td>\n",
       "      <td>480</td>\n",
       "      <td>640</td>\n",
       "      <td>BS0989</td>\n",
       "    </tr>\n",
       "    <tr>\n",
       "      <th>199</th>\n",
       "      <td>1056</td>\n",
       "      <td>/home/safal/raavan/smartphone_microscopy/AI_as...</td>\n",
       "      <td>480</td>\n",
       "      <td>640</td>\n",
       "      <td>BS0999</td>\n",
       "    </tr>\n",
       "    <tr>\n",
       "      <th>200</th>\n",
       "      <td>1060</td>\n",
       "      <td>/home/safal/raavan/smartphone_microscopy/AI_as...</td>\n",
       "      <td>480</td>\n",
       "      <td>640</td>\n",
       "      <td>BS1003</td>\n",
       "    </tr>\n",
       "  </tbody>\n",
       "</table>\n",
       "<p>201 rows × 5 columns</p>\n",
       "</div>"
      ],
      "text/plain": [
       "       id                                          file_name  height  width  \\\n",
       "0       1  /home/safal/raavan/smartphone_microscopy/AI_as...     480    640   \n",
       "1       4  /home/safal/raavan/smartphone_microscopy/AI_as...     480    640   \n",
       "2      13  /home/safal/raavan/smartphone_microscopy/AI_as...     480    640   \n",
       "3      14  /home/safal/raavan/smartphone_microscopy/AI_as...     480    640   \n",
       "4      20  /home/safal/raavan/smartphone_microscopy/AI_as...     480    640   \n",
       "..    ...                                                ...     ...    ...   \n",
       "196  1040  /home/safal/raavan/smartphone_microscopy/AI_as...     480    640   \n",
       "197  1044  /home/safal/raavan/smartphone_microscopy/AI_as...     480    640   \n",
       "198  1046  /home/safal/raavan/smartphone_microscopy/AI_as...     480    640   \n",
       "199  1056  /home/safal/raavan/smartphone_microscopy/AI_as...     480    640   \n",
       "200  1060  /home/safal/raavan/smartphone_microscopy/AI_as...     480    640   \n",
       "\n",
       "    image_id  \n",
       "0     BS0001  \n",
       "1     BS0004  \n",
       "2     BS0013  \n",
       "3     BS0014  \n",
       "4     BS0020  \n",
       "..       ...  \n",
       "196   BS0983  \n",
       "197   BS0987  \n",
       "198   BS0989  \n",
       "199   BS0999  \n",
       "200   BS1003  \n",
       "\n",
       "[201 rows x 5 columns]"
      ]
     },
     "execution_count": 11,
     "metadata": {},
     "output_type": "execute_result"
    }
   ],
   "source": [
    "images_df"
   ]
  },
  {
   "cell_type": "code",
   "execution_count": 12,
   "metadata": {},
   "outputs": [],
   "source": [
    "gt_annos_df[\"bbox\"] = gt_annos_df[\"bbox\"].apply(\n",
    "    lambda x: [x[0], x[1], x[0] + x[2], x[1] + x[3]]\n",
    ")\n"
   ]
  },
  {
   "cell_type": "code",
   "execution_count": 13,
   "metadata": {},
   "outputs": [
    {
     "data": {
      "text/html": [
       "<div>\n",
       "<style scoped>\n",
       "    .dataframe tbody tr th:only-of-type {\n",
       "        vertical-align: middle;\n",
       "    }\n",
       "\n",
       "    .dataframe tbody tr th {\n",
       "        vertical-align: top;\n",
       "    }\n",
       "\n",
       "    .dataframe thead th {\n",
       "        text-align: right;\n",
       "    }\n",
       "</style>\n",
       "<table border=\"1\" class=\"dataframe\">\n",
       "  <thead>\n",
       "    <tr style=\"text-align: right;\">\n",
       "      <th></th>\n",
       "      <th>image_id</th>\n",
       "      <th>id</th>\n",
       "      <th>category_id</th>\n",
       "      <th>bbox</th>\n",
       "      <th>segmentation</th>\n",
       "      <th>iscrowd</th>\n",
       "      <th>area</th>\n",
       "    </tr>\n",
       "  </thead>\n",
       "  <tbody>\n",
       "    <tr>\n",
       "      <th>0</th>\n",
       "      <td>1</td>\n",
       "      <td>2</td>\n",
       "      <td>0</td>\n",
       "      <td>[268.0, 432.0, 278.0, 442.0]</td>\n",
       "      <td>[]</td>\n",
       "      <td>0</td>\n",
       "      <td>100.000000</td>\n",
       "    </tr>\n",
       "    <tr>\n",
       "      <th>1</th>\n",
       "      <td>1</td>\n",
       "      <td>3</td>\n",
       "      <td>0</td>\n",
       "      <td>[518.0, 361.0, 530.0, 371.0]</td>\n",
       "      <td>[]</td>\n",
       "      <td>0</td>\n",
       "      <td>120.000000</td>\n",
       "    </tr>\n",
       "    <tr>\n",
       "      <th>2</th>\n",
       "      <td>4</td>\n",
       "      <td>5</td>\n",
       "      <td>1</td>\n",
       "      <td>[529.2140833378212, 297.5634355704484, 562.785...</td>\n",
       "      <td>[]</td>\n",
       "      <td>0</td>\n",
       "      <td>835.036536</td>\n",
       "    </tr>\n",
       "    <tr>\n",
       "      <th>3</th>\n",
       "      <td>4</td>\n",
       "      <td>6</td>\n",
       "      <td>1</td>\n",
       "      <td>[466.9134134481312, 374.45361413506225, 487.08...</td>\n",
       "      <td>[]</td>\n",
       "      <td>0</td>\n",
       "      <td>586.893520</td>\n",
       "    </tr>\n",
       "    <tr>\n",
       "      <th>4</th>\n",
       "      <td>13</td>\n",
       "      <td>30</td>\n",
       "      <td>1</td>\n",
       "      <td>[361.11871973472756, 168.8558744429978, 398.88...</td>\n",
       "      <td>[]</td>\n",
       "      <td>0</td>\n",
       "      <td>917.186553</td>\n",
       "    </tr>\n",
       "    <tr>\n",
       "      <th>...</th>\n",
       "      <td>...</td>\n",
       "      <td>...</td>\n",
       "      <td>...</td>\n",
       "      <td>...</td>\n",
       "      <td>...</td>\n",
       "      <td>...</td>\n",
       "      <td>...</td>\n",
       "    </tr>\n",
       "    <tr>\n",
       "      <th>216</th>\n",
       "      <td>963</td>\n",
       "      <td>1012</td>\n",
       "      <td>1</td>\n",
       "      <td>[241.91607846833455, 219.5085686776027, 266.08...</td>\n",
       "      <td>[]</td>\n",
       "      <td>0</td>\n",
       "      <td>748.788962</td>\n",
       "    </tr>\n",
       "    <tr>\n",
       "      <th>217</th>\n",
       "      <td>1014</td>\n",
       "      <td>1061</td>\n",
       "      <td>0</td>\n",
       "      <td>[319.0, 303.0, 331.0, 317.0]</td>\n",
       "      <td>[]</td>\n",
       "      <td>0</td>\n",
       "      <td>168.000000</td>\n",
       "    </tr>\n",
       "    <tr>\n",
       "      <th>218</th>\n",
       "      <td>1016</td>\n",
       "      <td>1063</td>\n",
       "      <td>0</td>\n",
       "      <td>[383.0, 165.0, 401.0, 183.0]</td>\n",
       "      <td>[]</td>\n",
       "      <td>0</td>\n",
       "      <td>324.000000</td>\n",
       "    </tr>\n",
       "    <tr>\n",
       "      <th>219</th>\n",
       "      <td>1046</td>\n",
       "      <td>1080</td>\n",
       "      <td>0</td>\n",
       "      <td>[498.0, 332.0, 512.0, 346.0]</td>\n",
       "      <td>[]</td>\n",
       "      <td>0</td>\n",
       "      <td>196.000000</td>\n",
       "    </tr>\n",
       "    <tr>\n",
       "      <th>220</th>\n",
       "      <td>1060</td>\n",
       "      <td>1085</td>\n",
       "      <td>0</td>\n",
       "      <td>[282.0, 285.0, 300.0, 301.0]</td>\n",
       "      <td>[]</td>\n",
       "      <td>0</td>\n",
       "      <td>288.000000</td>\n",
       "    </tr>\n",
       "  </tbody>\n",
       "</table>\n",
       "<p>221 rows × 7 columns</p>\n",
       "</div>"
      ],
      "text/plain": [
       "     image_id    id  category_id  \\\n",
       "0           1     2            0   \n",
       "1           1     3            0   \n",
       "2           4     5            1   \n",
       "3           4     6            1   \n",
       "4          13    30            1   \n",
       "..        ...   ...          ...   \n",
       "216       963  1012            1   \n",
       "217      1014  1061            0   \n",
       "218      1016  1063            0   \n",
       "219      1046  1080            0   \n",
       "220      1060  1085            0   \n",
       "\n",
       "                                                  bbox segmentation  iscrowd  \\\n",
       "0                         [268.0, 432.0, 278.0, 442.0]           []        0   \n",
       "1                         [518.0, 361.0, 530.0, 371.0]           []        0   \n",
       "2    [529.2140833378212, 297.5634355704484, 562.785...           []        0   \n",
       "3    [466.9134134481312, 374.45361413506225, 487.08...           []        0   \n",
       "4    [361.11871973472756, 168.8558744429978, 398.88...           []        0   \n",
       "..                                                 ...          ...      ...   \n",
       "216  [241.91607846833455, 219.5085686776027, 266.08...           []        0   \n",
       "217                       [319.0, 303.0, 331.0, 317.0]           []        0   \n",
       "218                       [383.0, 165.0, 401.0, 183.0]           []        0   \n",
       "219                       [498.0, 332.0, 512.0, 346.0]           []        0   \n",
       "220                       [282.0, 285.0, 300.0, 301.0]           []        0   \n",
       "\n",
       "           area  \n",
       "0    100.000000  \n",
       "1    120.000000  \n",
       "2    835.036536  \n",
       "3    586.893520  \n",
       "4    917.186553  \n",
       "..          ...  \n",
       "216  748.788962  \n",
       "217  168.000000  \n",
       "218  324.000000  \n",
       "219  196.000000  \n",
       "220  288.000000  \n",
       "\n",
       "[221 rows x 7 columns]"
      ]
     },
     "execution_count": 13,
     "metadata": {},
     "output_type": "execute_result"
    }
   ],
   "source": [
    "gt_annos_df"
   ]
  },
  {
   "cell_type": "code",
   "execution_count": 15,
   "metadata": {},
   "outputs": [],
   "source": [
    "# replace image_id of gt_annos_df with image_id of images_df\n",
    "gt_annos_df[\"image_id\"] = gt_annos_df[\"image_id\"].apply(\n",
    "    lambda x: images_df[images_df[\"id\"] == x][\"image_id\"].values[0]\n",
    ")\n",
    "\n",
    "# replace image_id of pred_annos_df with image_id of images_df\n",
    "pred_annos_df[\"image_id\"] = pred_annos_df[\"image_id\"].apply(\n",
    "    lambda x: images_df[images_df[\"id\"] == x][\"image_id\"].values[0]\n",
    ")\n"
   ]
  },
  {
   "cell_type": "code",
   "execution_count": 16,
   "metadata": {},
   "outputs": [
    {
     "data": {
      "text/html": [
       "<div>\n",
       "<style scoped>\n",
       "    .dataframe tbody tr th:only-of-type {\n",
       "        vertical-align: middle;\n",
       "    }\n",
       "\n",
       "    .dataframe tbody tr th {\n",
       "        vertical-align: top;\n",
       "    }\n",
       "\n",
       "    .dataframe thead th {\n",
       "        text-align: right;\n",
       "    }\n",
       "</style>\n",
       "<table border=\"1\" class=\"dataframe\">\n",
       "  <thead>\n",
       "    <tr style=\"text-align: right;\">\n",
       "      <th></th>\n",
       "      <th>image_id</th>\n",
       "      <th>id</th>\n",
       "      <th>category_id</th>\n",
       "      <th>bbox</th>\n",
       "      <th>segmentation</th>\n",
       "      <th>iscrowd</th>\n",
       "      <th>area</th>\n",
       "    </tr>\n",
       "  </thead>\n",
       "  <tbody>\n",
       "    <tr>\n",
       "      <th>0</th>\n",
       "      <td>BS0001</td>\n",
       "      <td>2</td>\n",
       "      <td>0</td>\n",
       "      <td>[268.0, 432.0, 278.0, 442.0]</td>\n",
       "      <td>[]</td>\n",
       "      <td>0</td>\n",
       "      <td>100.000000</td>\n",
       "    </tr>\n",
       "    <tr>\n",
       "      <th>1</th>\n",
       "      <td>BS0001</td>\n",
       "      <td>3</td>\n",
       "      <td>0</td>\n",
       "      <td>[518.0, 361.0, 530.0, 371.0]</td>\n",
       "      <td>[]</td>\n",
       "      <td>0</td>\n",
       "      <td>120.000000</td>\n",
       "    </tr>\n",
       "    <tr>\n",
       "      <th>2</th>\n",
       "      <td>BS0004</td>\n",
       "      <td>5</td>\n",
       "      <td>1</td>\n",
       "      <td>[529.2140833378212, 297.5634355704484, 562.785...</td>\n",
       "      <td>[]</td>\n",
       "      <td>0</td>\n",
       "      <td>835.036536</td>\n",
       "    </tr>\n",
       "    <tr>\n",
       "      <th>3</th>\n",
       "      <td>BS0004</td>\n",
       "      <td>6</td>\n",
       "      <td>1</td>\n",
       "      <td>[466.9134134481312, 374.45361413506225, 487.08...</td>\n",
       "      <td>[]</td>\n",
       "      <td>0</td>\n",
       "      <td>586.893520</td>\n",
       "    </tr>\n",
       "    <tr>\n",
       "      <th>4</th>\n",
       "      <td>BS0013</td>\n",
       "      <td>30</td>\n",
       "      <td>1</td>\n",
       "      <td>[361.11871973472756, 168.8558744429978, 398.88...</td>\n",
       "      <td>[]</td>\n",
       "      <td>0</td>\n",
       "      <td>917.186553</td>\n",
       "    </tr>\n",
       "    <tr>\n",
       "      <th>...</th>\n",
       "      <td>...</td>\n",
       "      <td>...</td>\n",
       "      <td>...</td>\n",
       "      <td>...</td>\n",
       "      <td>...</td>\n",
       "      <td>...</td>\n",
       "      <td>...</td>\n",
       "    </tr>\n",
       "    <tr>\n",
       "      <th>216</th>\n",
       "      <td>BS0906</td>\n",
       "      <td>1012</td>\n",
       "      <td>1</td>\n",
       "      <td>[241.91607846833455, 219.5085686776027, 266.08...</td>\n",
       "      <td>[]</td>\n",
       "      <td>0</td>\n",
       "      <td>748.788962</td>\n",
       "    </tr>\n",
       "    <tr>\n",
       "      <th>217</th>\n",
       "      <td>BS0957</td>\n",
       "      <td>1061</td>\n",
       "      <td>0</td>\n",
       "      <td>[319.0, 303.0, 331.0, 317.0]</td>\n",
       "      <td>[]</td>\n",
       "      <td>0</td>\n",
       "      <td>168.000000</td>\n",
       "    </tr>\n",
       "    <tr>\n",
       "      <th>218</th>\n",
       "      <td>BS0959</td>\n",
       "      <td>1063</td>\n",
       "      <td>0</td>\n",
       "      <td>[383.0, 165.0, 401.0, 183.0]</td>\n",
       "      <td>[]</td>\n",
       "      <td>0</td>\n",
       "      <td>324.000000</td>\n",
       "    </tr>\n",
       "    <tr>\n",
       "      <th>219</th>\n",
       "      <td>BS0989</td>\n",
       "      <td>1080</td>\n",
       "      <td>0</td>\n",
       "      <td>[498.0, 332.0, 512.0, 346.0]</td>\n",
       "      <td>[]</td>\n",
       "      <td>0</td>\n",
       "      <td>196.000000</td>\n",
       "    </tr>\n",
       "    <tr>\n",
       "      <th>220</th>\n",
       "      <td>BS1003</td>\n",
       "      <td>1085</td>\n",
       "      <td>0</td>\n",
       "      <td>[282.0, 285.0, 300.0, 301.0]</td>\n",
       "      <td>[]</td>\n",
       "      <td>0</td>\n",
       "      <td>288.000000</td>\n",
       "    </tr>\n",
       "  </tbody>\n",
       "</table>\n",
       "<p>221 rows × 7 columns</p>\n",
       "</div>"
      ],
      "text/plain": [
       "    image_id    id  category_id  \\\n",
       "0     BS0001     2            0   \n",
       "1     BS0001     3            0   \n",
       "2     BS0004     5            1   \n",
       "3     BS0004     6            1   \n",
       "4     BS0013    30            1   \n",
       "..       ...   ...          ...   \n",
       "216   BS0906  1012            1   \n",
       "217   BS0957  1061            0   \n",
       "218   BS0959  1063            0   \n",
       "219   BS0989  1080            0   \n",
       "220   BS1003  1085            0   \n",
       "\n",
       "                                                  bbox segmentation  iscrowd  \\\n",
       "0                         [268.0, 432.0, 278.0, 442.0]           []        0   \n",
       "1                         [518.0, 361.0, 530.0, 371.0]           []        0   \n",
       "2    [529.2140833378212, 297.5634355704484, 562.785...           []        0   \n",
       "3    [466.9134134481312, 374.45361413506225, 487.08...           []        0   \n",
       "4    [361.11871973472756, 168.8558744429978, 398.88...           []        0   \n",
       "..                                                 ...          ...      ...   \n",
       "216  [241.91607846833455, 219.5085686776027, 266.08...           []        0   \n",
       "217                       [319.0, 303.0, 331.0, 317.0]           []        0   \n",
       "218                       [383.0, 165.0, 401.0, 183.0]           []        0   \n",
       "219                       [498.0, 332.0, 512.0, 346.0]           []        0   \n",
       "220                       [282.0, 285.0, 300.0, 301.0]           []        0   \n",
       "\n",
       "           area  \n",
       "0    100.000000  \n",
       "1    120.000000  \n",
       "2    835.036536  \n",
       "3    586.893520  \n",
       "4    917.186553  \n",
       "..          ...  \n",
       "216  748.788962  \n",
       "217  168.000000  \n",
       "218  324.000000  \n",
       "219  196.000000  \n",
       "220  288.000000  \n",
       "\n",
       "[221 rows x 7 columns]"
      ]
     },
     "execution_count": 16,
     "metadata": {},
     "output_type": "execute_result"
    }
   ],
   "source": [
    "gt_annos_df"
   ]
  },
  {
   "cell_type": "code",
   "execution_count": 17,
   "metadata": {},
   "outputs": [
    {
     "data": {
      "text/html": [
       "<div>\n",
       "<style scoped>\n",
       "    .dataframe tbody tr th:only-of-type {\n",
       "        vertical-align: middle;\n",
       "    }\n",
       "\n",
       "    .dataframe tbody tr th {\n",
       "        vertical-align: top;\n",
       "    }\n",
       "\n",
       "    .dataframe thead th {\n",
       "        text-align: right;\n",
       "    }\n",
       "</style>\n",
       "<table border=\"1\" class=\"dataframe\">\n",
       "  <thead>\n",
       "    <tr style=\"text-align: right;\">\n",
       "      <th></th>\n",
       "      <th>image_id</th>\n",
       "      <th>bbox</th>\n",
       "      <th>score</th>\n",
       "      <th>category_id</th>\n",
       "    </tr>\n",
       "  </thead>\n",
       "  <tbody>\n",
       "    <tr>\n",
       "      <th>0</th>\n",
       "      <td>BS0001</td>\n",
       "      <td>[518.3383178710938, 357.91217041015625, 530.08...</td>\n",
       "      <td>0.984015</td>\n",
       "      <td>0</td>\n",
       "    </tr>\n",
       "    <tr>\n",
       "      <th>1</th>\n",
       "      <td>BS0001</td>\n",
       "      <td>[266.4512634277344, 430.5737609863281, 279.110...</td>\n",
       "      <td>0.934073</td>\n",
       "      <td>0</td>\n",
       "    </tr>\n",
       "    <tr>\n",
       "      <th>2</th>\n",
       "      <td>BS0004</td>\n",
       "      <td>[541.9117431640625, 90.74610900878906, 554.394...</td>\n",
       "      <td>0.804585</td>\n",
       "      <td>0</td>\n",
       "    </tr>\n",
       "    <tr>\n",
       "      <th>3</th>\n",
       "      <td>BS0004</td>\n",
       "      <td>[528.6170043945312, 299.0773620605469, 563.428...</td>\n",
       "      <td>0.998632</td>\n",
       "      <td>1</td>\n",
       "    </tr>\n",
       "    <tr>\n",
       "      <th>4</th>\n",
       "      <td>BS0004</td>\n",
       "      <td>[468.0694274902344, 371.1058044433594, 486.616...</td>\n",
       "      <td>0.998072</td>\n",
       "      <td>1</td>\n",
       "    </tr>\n",
       "    <tr>\n",
       "      <th>...</th>\n",
       "      <td>...</td>\n",
       "      <td>...</td>\n",
       "      <td>...</td>\n",
       "      <td>...</td>\n",
       "    </tr>\n",
       "    <tr>\n",
       "      <th>359</th>\n",
       "      <td>BS0999</td>\n",
       "      <td>[311.8299560546875, 330.4395751953125, 325.900...</td>\n",
       "      <td>0.370893</td>\n",
       "      <td>0</td>\n",
       "    </tr>\n",
       "    <tr>\n",
       "      <th>360</th>\n",
       "      <td>BS0999</td>\n",
       "      <td>[28.855241775512695, 429.0587463378906, 43.833...</td>\n",
       "      <td>0.087883</td>\n",
       "      <td>0</td>\n",
       "    </tr>\n",
       "    <tr>\n",
       "      <th>361</th>\n",
       "      <td>BS0999</td>\n",
       "      <td>[489.2289733886719, 139.02957153320312, 513.99...</td>\n",
       "      <td>0.985613</td>\n",
       "      <td>1</td>\n",
       "    </tr>\n",
       "    <tr>\n",
       "      <th>362</th>\n",
       "      <td>BS1003</td>\n",
       "      <td>[285.316162109375, 285.7833557128906, 298.3072...</td>\n",
       "      <td>0.905366</td>\n",
       "      <td>0</td>\n",
       "    </tr>\n",
       "    <tr>\n",
       "      <th>363</th>\n",
       "      <td>BS1003</td>\n",
       "      <td>[283.3437194824219, 285.0134582519531, 299.127...</td>\n",
       "      <td>0.247258</td>\n",
       "      <td>1</td>\n",
       "    </tr>\n",
       "  </tbody>\n",
       "</table>\n",
       "<p>364 rows × 4 columns</p>\n",
       "</div>"
      ],
      "text/plain": [
       "    image_id                                               bbox     score  \\\n",
       "0     BS0001  [518.3383178710938, 357.91217041015625, 530.08...  0.984015   \n",
       "1     BS0001  [266.4512634277344, 430.5737609863281, 279.110...  0.934073   \n",
       "2     BS0004  [541.9117431640625, 90.74610900878906, 554.394...  0.804585   \n",
       "3     BS0004  [528.6170043945312, 299.0773620605469, 563.428...  0.998632   \n",
       "4     BS0004  [468.0694274902344, 371.1058044433594, 486.616...  0.998072   \n",
       "..       ...                                                ...       ...   \n",
       "359   BS0999  [311.8299560546875, 330.4395751953125, 325.900...  0.370893   \n",
       "360   BS0999  [28.855241775512695, 429.0587463378906, 43.833...  0.087883   \n",
       "361   BS0999  [489.2289733886719, 139.02957153320312, 513.99...  0.985613   \n",
       "362   BS1003  [285.316162109375, 285.7833557128906, 298.3072...  0.905366   \n",
       "363   BS1003  [283.3437194824219, 285.0134582519531, 299.127...  0.247258   \n",
       "\n",
       "     category_id  \n",
       "0              0  \n",
       "1              0  \n",
       "2              0  \n",
       "3              1  \n",
       "4              1  \n",
       "..           ...  \n",
       "359            0  \n",
       "360            0  \n",
       "361            1  \n",
       "362            0  \n",
       "363            1  \n",
       "\n",
       "[364 rows x 4 columns]"
      ]
     },
     "execution_count": 17,
     "metadata": {},
     "output_type": "execute_result"
    }
   ],
   "source": [
    "pred_annos_df"
   ]
  },
  {
   "cell_type": "code",
   "execution_count": 18,
   "metadata": {},
   "outputs": [],
   "source": [
    "categories = sorted(gt_annos_df.category_id.unique())\n",
    "\n",
    "    # dataframe to store the precision, recall and f1 score for each class\n",
    "metrics_df = pd.DataFrame(\n",
    "    columns=[\"category\", \"precision\", \"recall\", \"f1_score\", \"TP\", \"FP\"]\n",
    ")"
   ]
  },
  {
   "cell_type": "code",
   "execution_count": 19,
   "metadata": {},
   "outputs": [],
   "source": [
    "precisions = dict(\n",
    "    (category, []) for category in categories\n",
    ")\n",
    "recalls = dict((category, []) for category in categories)\n"
   ]
  },
  {
   "cell_type": "code",
   "execution_count": 20,
   "metadata": {},
   "outputs": [
    {
     "data": {
      "text/plain": [
       "{0: [], 1: []}"
      ]
     },
     "execution_count": 20,
     "metadata": {},
     "output_type": "execute_result"
    }
   ],
   "source": [
    "precisions"
   ]
  },
  {
   "cell_type": "code",
   "execution_count": 21,
   "metadata": {},
   "outputs": [],
   "source": [
    "# for category in categories:\n",
    "category = 1\n",
    "# get the ground truth annotations for the current class\n",
    "gt_annos_df_class = gt_annos_df[\n",
    "    gt_annos_df.category_id == category\n",
    "]\n",
    "# get the predicted annotations for the current class\n",
    "pred_annos_df_class = pred_annos_df[\n",
    "    pred_annos_df.category_id == category\n",
    "]\n",
    "\n",
    "# sort the predicted annotations by score\n",
    "pred_annos_df_class = pred_annos_df_class.sort_values(\n",
    "    by=\"score\", ascending=False\n",
    ")\n",
    "\n",
    "# filter predictions with score > 0.001\n",
    "# pred_annos_df_class = pred_annos_df_class[\n",
    "#     pred_annos_df_class.score > 0.3\n",
    "# ]\n",
    "\n",
    "true_positives_class = 0\n",
    "false_positives_class = 0\n",
    "\n",
    "# get image ids for the current class from both ground truth and predicted annotations\n",
    "image_ids = pred_annos_df_class[\"image_id\"].unique()\n",
    "images_len = len(image_ids)\n"
   ]
  },
  {
   "cell_type": "code",
   "execution_count": 22,
   "metadata": {},
   "outputs": [
    {
     "data": {
      "text/html": [
       "<div>\n",
       "<style scoped>\n",
       "    .dataframe tbody tr th:only-of-type {\n",
       "        vertical-align: middle;\n",
       "    }\n",
       "\n",
       "    .dataframe tbody tr th {\n",
       "        vertical-align: top;\n",
       "    }\n",
       "\n",
       "    .dataframe thead th {\n",
       "        text-align: right;\n",
       "    }\n",
       "</style>\n",
       "<table border=\"1\" class=\"dataframe\">\n",
       "  <thead>\n",
       "    <tr style=\"text-align: right;\">\n",
       "      <th></th>\n",
       "      <th>image_id</th>\n",
       "      <th>bbox</th>\n",
       "      <th>score</th>\n",
       "      <th>category_id</th>\n",
       "    </tr>\n",
       "  </thead>\n",
       "  <tbody>\n",
       "    <tr>\n",
       "      <th>308</th>\n",
       "      <td>BS0805</td>\n",
       "      <td>[126.77021026611328, 81.20881652832031, 155.85...</td>\n",
       "      <td>0.999610</td>\n",
       "      <td>1</td>\n",
       "    </tr>\n",
       "    <tr>\n",
       "      <th>87</th>\n",
       "      <td>BS0187</td>\n",
       "      <td>[319.3728942871094, 267.1075134277344, 339.845...</td>\n",
       "      <td>0.999555</td>\n",
       "      <td>1</td>\n",
       "    </tr>\n",
       "    <tr>\n",
       "      <th>155</th>\n",
       "      <td>BS0397</td>\n",
       "      <td>[382.88299560546875, 150.63157653808594, 418.6...</td>\n",
       "      <td>0.999256</td>\n",
       "      <td>1</td>\n",
       "    </tr>\n",
       "    <tr>\n",
       "      <th>20</th>\n",
       "      <td>BS0052</td>\n",
       "      <td>[564.9611206054688, 125.46453094482422, 598.40...</td>\n",
       "      <td>0.999181</td>\n",
       "      <td>1</td>\n",
       "    </tr>\n",
       "    <tr>\n",
       "      <th>179</th>\n",
       "      <td>BS0471</td>\n",
       "      <td>[277.1153869628906, 270.3267517089844, 298.039...</td>\n",
       "      <td>0.998935</td>\n",
       "      <td>1</td>\n",
       "    </tr>\n",
       "    <tr>\n",
       "      <th>...</th>\n",
       "      <td>...</td>\n",
       "      <td>...</td>\n",
       "      <td>...</td>\n",
       "      <td>...</td>\n",
       "    </tr>\n",
       "    <tr>\n",
       "      <th>263</th>\n",
       "      <td>BS0726</td>\n",
       "      <td>[447.940185546875, 276.1542053222656, 463.4423...</td>\n",
       "      <td>0.081697</td>\n",
       "      <td>1</td>\n",
       "    </tr>\n",
       "    <tr>\n",
       "      <th>160</th>\n",
       "      <td>BS0406</td>\n",
       "      <td>[447.940185546875, 276.1542053222656, 463.4423...</td>\n",
       "      <td>0.081697</td>\n",
       "      <td>1</td>\n",
       "    </tr>\n",
       "    <tr>\n",
       "      <th>302</th>\n",
       "      <td>BS0779</td>\n",
       "      <td>[402.3310241699219, 172.79525756835938, 417.98...</td>\n",
       "      <td>0.071190</td>\n",
       "      <td>1</td>\n",
       "    </tr>\n",
       "    <tr>\n",
       "      <th>238</th>\n",
       "      <td>BS0654</td>\n",
       "      <td>[375.3856506347656, 249.15321350097656, 389.51...</td>\n",
       "      <td>0.063753</td>\n",
       "      <td>1</td>\n",
       "    </tr>\n",
       "    <tr>\n",
       "      <th>349</th>\n",
       "      <td>BS0949</td>\n",
       "      <td>[543.47900390625, 309.30169677734375, 560.2902...</td>\n",
       "      <td>0.054711</td>\n",
       "      <td>1</td>\n",
       "    </tr>\n",
       "  </tbody>\n",
       "</table>\n",
       "<p>103 rows × 4 columns</p>\n",
       "</div>"
      ],
      "text/plain": [
       "    image_id                                               bbox     score  \\\n",
       "308   BS0805  [126.77021026611328, 81.20881652832031, 155.85...  0.999610   \n",
       "87    BS0187  [319.3728942871094, 267.1075134277344, 339.845...  0.999555   \n",
       "155   BS0397  [382.88299560546875, 150.63157653808594, 418.6...  0.999256   \n",
       "20    BS0052  [564.9611206054688, 125.46453094482422, 598.40...  0.999181   \n",
       "179   BS0471  [277.1153869628906, 270.3267517089844, 298.039...  0.998935   \n",
       "..       ...                                                ...       ...   \n",
       "263   BS0726  [447.940185546875, 276.1542053222656, 463.4423...  0.081697   \n",
       "160   BS0406  [447.940185546875, 276.1542053222656, 463.4423...  0.081697   \n",
       "302   BS0779  [402.3310241699219, 172.79525756835938, 417.98...  0.071190   \n",
       "238   BS0654  [375.3856506347656, 249.15321350097656, 389.51...  0.063753   \n",
       "349   BS0949  [543.47900390625, 309.30169677734375, 560.2902...  0.054711   \n",
       "\n",
       "     category_id  \n",
       "308            1  \n",
       "87             1  \n",
       "155            1  \n",
       "20             1  \n",
       "179            1  \n",
       "..           ...  \n",
       "263            1  \n",
       "160            1  \n",
       "302            1  \n",
       "238            1  \n",
       "349            1  \n",
       "\n",
       "[103 rows x 4 columns]"
      ]
     },
     "execution_count": 22,
     "metadata": {},
     "output_type": "execute_result"
    }
   ],
   "source": [
    "pred_annos_df_class"
   ]
  },
  {
   "cell_type": "code",
   "execution_count": 23,
   "metadata": {},
   "outputs": [
    {
     "data": {
      "text/plain": [
       "{'BS0004',\n",
       " 'BS0013',\n",
       " 'BS0020',\n",
       " 'BS0040',\n",
       " 'BS0047',\n",
       " 'BS0052',\n",
       " 'BS0058',\n",
       " 'BS0187',\n",
       " 'BS0189',\n",
       " 'BS0191',\n",
       " 'BS0205',\n",
       " 'BS0214',\n",
       " 'BS0216',\n",
       " 'BS0217',\n",
       " 'BS0288',\n",
       " 'BS0295',\n",
       " 'BS0308',\n",
       " 'BS0330',\n",
       " 'BS0337',\n",
       " 'BS0339',\n",
       " 'BS0343',\n",
       " 'BS0366',\n",
       " 'BS0372',\n",
       " 'BS0378',\n",
       " 'BS0379',\n",
       " 'BS0385',\n",
       " 'BS0387',\n",
       " 'BS0389',\n",
       " 'BS0392',\n",
       " 'BS0397',\n",
       " 'BS0471',\n",
       " 'BS0475',\n",
       " 'BS0476',\n",
       " 'BS0553',\n",
       " 'BS0555',\n",
       " 'BS0560',\n",
       " 'BS0561',\n",
       " 'BS0562',\n",
       " 'BS0563',\n",
       " 'BS0564',\n",
       " 'BS0565',\n",
       " 'BS0566',\n",
       " 'BS0573',\n",
       " 'BS0574',\n",
       " 'BS0592',\n",
       " 'BS0766',\n",
       " 'BS0804',\n",
       " 'BS0805',\n",
       " 'BS0906'}"
      ]
     },
     "execution_count": 23,
     "metadata": {},
     "output_type": "execute_result"
    }
   ],
   "source": [
    "set(pred_annos_df_class[\"image_id\"].unique()).intersection(set(gt_annos_df_class[\"image_id\"].unique()))"
   ]
  },
  {
   "cell_type": "code",
   "execution_count": 24,
   "metadata": {},
   "outputs": [
    {
     "data": {
      "text/plain": [
       "array(['BS0805', 'BS0187', 'BS0397', 'BS0052', 'BS0471', 'BS0476',\n",
       "       'BS0766', 'BS0389', 'BS0555', 'BS0004', 'BS0561', 'BS0217',\n",
       "       'BS0020', 'BS0379', 'BS0205', 'BS0565', 'BS0385', 'BS0047',\n",
       "       'BS0191', 'BS0330', 'BS0574', 'BS0392', 'BS0387', 'BS0795',\n",
       "       'BS0337', 'BS0563', 'BS0804', 'BS0372', 'BS0553', 'BS0573',\n",
       "       'BS0013', 'BS0343', 'BS0339', 'BS0288', 'BS0562', 'BS0906',\n",
       "       'BS0475', 'BS0560', 'BS0295', 'BS0308', 'BS0189', 'BS0564',\n",
       "       'BS0040', 'BS0592', 'BS0999', 'BS0034', 'BS0378', 'BS0214',\n",
       "       'BS0366', 'BS0216', 'BS0058', 'BS0504', 'BS0964', 'BS0391',\n",
       "       'BS0955', 'BS0683', 'BS0775', 'BS0738', 'BS0949', 'BS0987',\n",
       "       'BS0719', 'BS0957', 'BS0895', 'BS0768', 'BS0566', 'BS0725',\n",
       "       'BS0474', 'BS0230', 'BS0160', 'BS1003', 'BS0313', 'BS0763',\n",
       "       'BS0699', 'BS0170', 'BS0726', 'BS0406', 'BS0779', 'BS0654'],\n",
       "      dtype=object)"
      ]
     },
     "execution_count": 24,
     "metadata": {},
     "output_type": "execute_result"
    }
   ],
   "source": [
    "image_ids"
   ]
  },
  {
   "cell_type": "code",
   "execution_count": 25,
   "metadata": {},
   "outputs": [],
   "source": [
    "\n",
    "# for image in image_ids:\n",
    "image = \"BS0013\"\n",
    "# get the ground truth annotations for the current image\n",
    "gt_annos_df_image = gt_annos_df_class[\n",
    "    gt_annos_df_class.image_id == image\n",
    "]\n",
    "# get the predicted annotations for the current image\n",
    "pred_annos_df_image = pred_annos_df_class[\n",
    "    pred_annos_df_class.image_id == image\n",
    "]\n",
    "\n",
    "# get the ground truth bounding boxes\n",
    "gt_bboxes = list(gt_annos_df_image.bbox.values)\n",
    "gt_bboxes = torch.tensor(gt_bboxes)\n",
    "\n",
    "# get the predicted bounding boxes\n",
    "pred_bboxes = list(pred_annos_df_image.bbox.values)\n",
    "pred_bboxes = torch.tensor(pred_bboxes)\n"
   ]
  },
  {
   "cell_type": "code",
   "execution_count": 26,
   "metadata": {},
   "outputs": [],
   "source": [
    "\n",
    "# if len(gt_bboxes) == 0:\n",
    "#     false_positives_class += len(pred_bboxes)\n",
    "#     precisions[category].append(\n",
    "#         true_positives_class / (true_positives_class + false_positives_class)\n",
    "#     )\n",
    "#     recalls[category].append(\n",
    "#         true_positives_class / gt_annos_df_class.shape[0]\n",
    "#     )\n",
    "#     continue\n"
   ]
  },
  {
   "cell_type": "code",
   "execution_count": 27,
   "metadata": {},
   "outputs": [
    {
     "data": {
      "text/plain": [
       "tensor([[361.1187, 168.8559, 398.8813, 193.1441],\n",
       "        [259.8486,  24.6146, 280.1514,  57.3854],\n",
       "        [180.7861, 288.7351, 203.2139, 327.2649]])"
      ]
     },
     "execution_count": 27,
     "metadata": {},
     "output_type": "execute_result"
    }
   ],
   "source": [
    "gt_bboxes"
   ]
  },
  {
   "cell_type": "code",
   "execution_count": 28,
   "metadata": {},
   "outputs": [
    {
     "data": {
      "text/plain": [
       "tensor([[360.9497, 168.0306, 398.3708, 194.0853],\n",
       "        [180.6326, 289.0701, 204.0133, 326.4426],\n",
       "        [260.1142,  24.3126, 279.8101,  56.9491]])"
      ]
     },
     "execution_count": 28,
     "metadata": {},
     "output_type": "execute_result"
    }
   ],
   "source": [
    "pred_bboxes"
   ]
  },
  {
   "cell_type": "code",
   "execution_count": 29,
   "metadata": {},
   "outputs": [],
   "source": [
    "\n",
    "# get the intersection over union for each predicted bounding box\n",
    "ious = box_iou(pred_bboxes, gt_bboxes)\n"
   ]
  },
  {
   "cell_type": "code",
   "execution_count": 30,
   "metadata": {},
   "outputs": [
    {
     "data": {
      "text/plain": [
       "tensor([[0.9163, 0.0000, 0.0000],\n",
       "        [0.0000, 0.0000, 0.9316],\n",
       "        [0.0000, 0.9487, 0.0000]])"
      ]
     },
     "execution_count": 30,
     "metadata": {},
     "output_type": "execute_result"
    }
   ],
   "source": [
    "ious"
   ]
  },
  {
   "cell_type": "code",
   "execution_count": 31,
   "metadata": {},
   "outputs": [],
   "source": [
    "\n",
    "# get the maximum iou for each ground truth bounding box\n",
    "max_ious, max_idxs = torch.max(ious, dim=1)\n"
   ]
  },
  {
   "cell_type": "code",
   "execution_count": 32,
   "metadata": {},
   "outputs": [
    {
     "data": {
      "text/plain": [
       "(tensor([0.9163, 0.9316, 0.9487]), tensor([0, 2, 1]))"
      ]
     },
     "execution_count": 32,
     "metadata": {},
     "output_type": "execute_result"
    }
   ],
   "source": [
    "max_ious , max_idxs"
   ]
  },
  {
   "cell_type": "code",
   "execution_count": 33,
   "metadata": {},
   "outputs": [],
   "source": [
    "gt_matched = torch.zeros(gt_bboxes.shape[0])"
   ]
  },
  {
   "cell_type": "code",
   "execution_count": 34,
   "metadata": {},
   "outputs": [
    {
     "data": {
      "text/plain": [
       "tensor([0., 0., 0.])"
      ]
     },
     "execution_count": 34,
     "metadata": {},
     "output_type": "execute_result"
    }
   ],
   "source": [
    "gt_matched"
   ]
  },
  {
   "cell_type": "code",
   "execution_count": 35,
   "metadata": {},
   "outputs": [],
   "source": [
    "for i, pred_bbox in enumerate(pred_bboxes):\n",
    "    iou_pred, gt_idx = max_ious[i], max_idxs[i]\n",
    "    if iou_pred > 0.5:\n",
    "        if gt_matched[gt_idx] == 0:\n",
    "            true_positives_class += 1\n",
    "            gt_matched[gt_idx] = 1\n",
    "        else:\n",
    "            false_positives_class += 1\n",
    "    else:\n",
    "        false_positives_class += 1\n"
   ]
  },
  {
   "cell_type": "code",
   "execution_count": 36,
   "metadata": {},
   "outputs": [
    {
     "data": {
      "text/plain": [
       "3"
      ]
     },
     "execution_count": 36,
     "metadata": {},
     "output_type": "execute_result"
    }
   ],
   "source": [
    "true_positives_class"
   ]
  },
  {
   "cell_type": "code",
   "execution_count": 37,
   "metadata": {},
   "outputs": [],
   "source": [
    "\n",
    "# get the indices of the predicted bounding boxes with iou > 0.5\n",
    "tp_indices = torch.where(max_ious >= 0.5)[0]\n",
    "# print(ious)\n",
    "\n",
    "# get the indices of the predicted bounding boxes with iou < 0.5\n",
    "fp_indices = torch.where(max_ious < 0.5)[0]\n"
   ]
  },
  {
   "cell_type": "code",
   "execution_count": 38,
   "metadata": {},
   "outputs": [
    {
     "data": {
      "text/plain": [
       "tensor([], dtype=torch.int64)"
      ]
     },
     "execution_count": 38,
     "metadata": {},
     "output_type": "execute_result"
    }
   ],
   "source": [
    "fp_indices"
   ]
  },
  {
   "cell_type": "code",
   "execution_count": 39,
   "metadata": {},
   "outputs": [],
   "source": [
    "\n",
    "# update the true positives and false positives\n",
    "true_positives_class += len(tp_indices)\n",
    "false_positives_class += len(fp_indices)\n",
    "precisions[category].append(\n",
    "    true_positives_class / (true_positives_class + false_positives_class)\n",
    ")\n",
    "recalls[category].append(\n",
    "    true_positives_class / gt_annos_df_class.shape[0]\n",
    ")\n",
    "\n",
    "# calculate the precision and recall\n",
    "precision = true_positives_class / (\n",
    "true_positives_class + false_positives_class\n",
    ")\n",
    "recall = true_positives_class / gt_annos_df_class.shape[0]\n",
    "\n",
    "category_name = gt_annos[\"categories\"][category][\"name\"]\n",
    "f1_score = 2 * (precision * recall) / (precision + recall)\n",
    "\n",
    "category_metrics_df = pd.DataFrame(\n",
    "{\n",
    "    \"category\": category_name,\n",
    "    \"precision\": precision,\n",
    "    \"recall\": recall,\n",
    "    \"f1_score\": f1_score,\n",
    "    \"TP\": true_positives_class,\n",
    "    \"FP\": false_positives_class,\n",
    "},\n",
    "index=[0],\n",
    ")\n",
    "\n",
    "# concatenate the metrics for the current class to the metrics dataframe\n",
    "metrics_df = pd.concat([metrics_df, category_metrics_df], axis=0)\n"
   ]
  },
  {
   "cell_type": "code",
   "execution_count": 40,
   "metadata": {},
   "outputs": [
    {
     "data": {
      "text/html": [
       "<div>\n",
       "<style scoped>\n",
       "    .dataframe tbody tr th:only-of-type {\n",
       "        vertical-align: middle;\n",
       "    }\n",
       "\n",
       "    .dataframe tbody tr th {\n",
       "        vertical-align: top;\n",
       "    }\n",
       "\n",
       "    .dataframe thead th {\n",
       "        text-align: right;\n",
       "    }\n",
       "</style>\n",
       "<table border=\"1\" class=\"dataframe\">\n",
       "  <thead>\n",
       "    <tr style=\"text-align: right;\">\n",
       "      <th></th>\n",
       "      <th>category</th>\n",
       "      <th>precision</th>\n",
       "      <th>recall</th>\n",
       "      <th>f1_score</th>\n",
       "      <th>TP</th>\n",
       "      <th>FP</th>\n",
       "    </tr>\n",
       "  </thead>\n",
       "  <tbody>\n",
       "    <tr>\n",
       "      <th>0</th>\n",
       "      <td>Giardia</td>\n",
       "      <td>1.0</td>\n",
       "      <td>0.088235</td>\n",
       "      <td>0.162162</td>\n",
       "      <td>6</td>\n",
       "      <td>0</td>\n",
       "    </tr>\n",
       "  </tbody>\n",
       "</table>\n",
       "</div>"
      ],
      "text/plain": [
       "  category  precision    recall  f1_score TP FP\n",
       "0  Giardia        1.0  0.088235  0.162162  6  0"
      ]
     },
     "execution_count": 40,
     "metadata": {},
     "output_type": "execute_result"
    }
   ],
   "source": [
    "metrics_df"
   ]
  },
  {
   "cell_type": "code",
   "execution_count": 41,
   "metadata": {},
   "outputs": [
    {
     "data": {
      "image/png": "[encoded data removed]",
      "text/plain": [
       "<Figure size 640x480 with 1 Axes>"
      ]
     },
     "metadata": {},
     "output_type": "display_data"
    }
   ],
   "source": [
    "# plot the precision recall curve\n",
    "for category in categories:\n",
    "    sns.lineplot(\n",
    "        x=recalls[category],\n",
    "        y=precisions[category],\n",
    "        label=gt_annos[\"categories\"][category][\"name\"],\n",
    "        \n",
    "    )\n",
    "\n",
    "\n"
   ]
  },
  {
   "cell_type": "code",
   "execution_count": null,
   "metadata": {},
   "outputs": [],
   "source": []
  }
 ],
 "metadata": {
  "kernelspec": {
   "display_name": ".venv",
   "language": "python",
   "name": ".venv"
  },
  "language_info": {
   "codemirror_mode": {
    "name": "ipython",
    "version": 3
   },
   "file_extension": ".py",
   "mimetype": "text/x-python",
   "name": "python",
   "nbconvert_exporter": "python",
   "pygments_lexer": "ipython3",
   "version": "3.10.8"
  },
  "orig_nbformat": 4
 },
 "nbformat": 4,
 "nbformat_minor": 2
}
