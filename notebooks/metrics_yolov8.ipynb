{
 "cells": [
  {
   "cell_type": "code",
   "execution_count": 1,
   "metadata": {},
   "outputs": [
    {
     "name": "stderr",
     "output_type": "stream",
     "text": [
      "/mnt/SSD0/safal/AI_assisted_microscopy_system/codes/.venv/lib/python3.10/site-packages/tqdm/auto.py:22: TqdmWarning: IProgress not found. Please update jupyter and ipywidgets. See https://ipywidgets.readthedocs.io/en/stable/user_install.html\n",
      "  from .autonotebook import tqdm as notebook_tqdm\n"
     ]
    }
   ],
   "source": [
    "from torchvision.ops import box_iou\n",
    "import os\n",
    "import pandas as pd\n",
    "import json\n",
    "import torch\n",
    "import seaborn as sns"
   ]
  },
  {
   "cell_type": "code",
   "execution_count": 2,
   "metadata": {},
   "outputs": [],
   "source": [
    "BASE_DIR = \"/mnt/Enterprise/safal/AI_assisted_microscopy_system/\"\n",
    "sample_types = [\n",
    "    \"smartphone_sample\",\n",
    "    \"smartphone_reference\",\n",
    "    \"brightfield_sample\",\n",
    "    \"brightfield_reference\",\n",
    "]\n",
    "model_type = \"yolov8\"\n",
    "sample_type=\"smartphone_sample\""
   ]
  },
  {
   "cell_type": "code",
   "execution_count": 3,
   "metadata": {},
   "outputs": [],
   "source": [
    "gt_annotations_file = os.path.join(\n",
    "    BASE_DIR,\n",
    "    \"cysts_dataset_all\",\n",
    "    sample_type,\n",
    "    \"fold_5\",\n",
    "    f\"{sample_type}_coco_annos_val.json\",\n",
    ")\n",
    "pred_annotations_file = os.path.join(\n",
    "    BASE_DIR,\n",
    "    \"outputs\",\n",
    "    sample_type,\n",
    "    model_type,\n",
    "    \"fold_5\",\n",
    "    \"mmdetection_cysts\",\n",
    "    f\"yolov8_{sample_type}_fold_5\",\n",
    "    # \"results.bbox.json\"\n",
    "    \"predictions.json\"\n",
    ")\n"
   ]
  },
  {
   "cell_type": "code",
   "execution_count": 4,
   "metadata": {},
   "outputs": [],
   "source": [
    "gt_annos = json.load(open(gt_annotations_file))"
   ]
  },
  {
   "cell_type": "code",
   "execution_count": 5,
   "metadata": {},
   "outputs": [],
   "source": [
    "pred_annos_df = pd.read_json(pred_annotations_file)"
   ]
  },
  {
   "cell_type": "code",
   "execution_count": 6,
   "metadata": {},
   "outputs": [],
   "source": [
    "# change bbox format to x1, y1, x2, y2\n",
    "pred_annos_df[\"bbox\"] = pred_annos_df[\"bbox\"].apply(\n",
    "    lambda x: [x[0], x[1], x[0] + x[2], x[1] + x[3]]\n",
    ")"
   ]
  },
  {
   "cell_type": "code",
   "execution_count": 7,
   "metadata": {},
   "outputs": [
    {
     "data": {
      "text/plain": [
       "{'id': 1,\n",
       " 'file_name': '/mnt/Enterprise/safal/AI_assisted_microscopy_system/cysts_dataset_all/smartphone_sample/train/SS0001.jpg',\n",
       " 'height': 4128,\n",
       " 'width': 3096}"
      ]
     },
     "execution_count": 7,
     "metadata": {},
     "output_type": "execute_result"
    }
   ],
   "source": [
    "gt_annos['images'][0]"
   ]
  },
  {
   "cell_type": "code",
   "execution_count": 8,
   "metadata": {},
   "outputs": [],
   "source": [
    "# change gt_annos id value to image names\n",
    "for i in range(len(gt_annos[\"images\"])):\n",
    "    gt_annos[\"images\"][i][\"image_id\"] = gt_annos[\"images\"][i][\"file_name\"].rsplit(\"/\")[-1].split(\".\")[0]\n"
   ]
  },
  {
   "cell_type": "code",
   "execution_count": 9,
   "metadata": {},
   "outputs": [
    {
     "data": {
      "text/plain": [
       "{'id': 1,\n",
       " 'file_name': '/mnt/Enterprise/safal/AI_assisted_microscopy_system/cysts_dataset_all/smartphone_sample/train/SS0001.jpg',\n",
       " 'height': 4128,\n",
       " 'width': 3096,\n",
       " 'image_id': 'SS0001'}"
      ]
     },
     "execution_count": 9,
     "metadata": {},
     "output_type": "execute_result"
    }
   ],
   "source": [
    "gt_annos['images'][0]"
   ]
  },
  {
   "cell_type": "code",
   "execution_count": 10,
   "metadata": {},
   "outputs": [],
   "source": [
    "images_df = pd.DataFrame(gt_annos[\"images\"])\n",
    "gt_annos_df = pd.DataFrame(gt_annos[\"annotations\"])"
   ]
  },
  {
   "cell_type": "code",
   "execution_count": 11,
   "metadata": {},
   "outputs": [
    {
     "data": {
      "text/html": [
       "<div>\n",
       "<style scoped>\n",
       "    .dataframe tbody tr th:only-of-type {\n",
       "        vertical-align: middle;\n",
       "    }\n",
       "\n",
       "    .dataframe tbody tr th {\n",
       "        vertical-align: top;\n",
       "    }\n",
       "\n",
       "    .dataframe thead th {\n",
       "        text-align: right;\n",
       "    }\n",
       "</style>\n",
       "<table border=\"1\" class=\"dataframe\">\n",
       "  <thead>\n",
       "    <tr style=\"text-align: right;\">\n",
       "      <th></th>\n",
       "      <th>id</th>\n",
       "      <th>file_name</th>\n",
       "      <th>height</th>\n",
       "      <th>width</th>\n",
       "      <th>image_id</th>\n",
       "    </tr>\n",
       "  </thead>\n",
       "  <tbody>\n",
       "    <tr>\n",
       "      <th>0</th>\n",
       "      <td>1</td>\n",
       "      <td>/mnt/Enterprise/safal/AI_assisted_microscopy_s...</td>\n",
       "      <td>4128</td>\n",
       "      <td>3096</td>\n",
       "      <td>SS0001</td>\n",
       "    </tr>\n",
       "    <tr>\n",
       "      <th>1</th>\n",
       "      <td>6</td>\n",
       "      <td>/mnt/Enterprise/safal/AI_assisted_microscopy_s...</td>\n",
       "      <td>3096</td>\n",
       "      <td>4128</td>\n",
       "      <td>SS0006</td>\n",
       "    </tr>\n",
       "    <tr>\n",
       "      <th>2</th>\n",
       "      <td>24</td>\n",
       "      <td>/mnt/Enterprise/safal/AI_assisted_microscopy_s...</td>\n",
       "      <td>3096</td>\n",
       "      <td>4128</td>\n",
       "      <td>SS0023</td>\n",
       "    </tr>\n",
       "    <tr>\n",
       "      <th>3</th>\n",
       "      <td>26</td>\n",
       "      <td>/mnt/Enterprise/safal/AI_assisted_microscopy_s...</td>\n",
       "      <td>3096</td>\n",
       "      <td>4128</td>\n",
       "      <td>SS0025</td>\n",
       "    </tr>\n",
       "    <tr>\n",
       "      <th>4</th>\n",
       "      <td>36</td>\n",
       "      <td>/mnt/Enterprise/safal/AI_assisted_microscopy_s...</td>\n",
       "      <td>4128</td>\n",
       "      <td>3096</td>\n",
       "      <td>SS0034</td>\n",
       "    </tr>\n",
       "    <tr>\n",
       "      <th>...</th>\n",
       "      <td>...</td>\n",
       "      <td>...</td>\n",
       "      <td>...</td>\n",
       "      <td>...</td>\n",
       "      <td>...</td>\n",
       "    </tr>\n",
       "    <tr>\n",
       "      <th>143</th>\n",
       "      <td>996</td>\n",
       "      <td>/mnt/Enterprise/safal/AI_assisted_microscopy_s...</td>\n",
       "      <td>3096</td>\n",
       "      <td>4128</td>\n",
       "      <td>SS0954</td>\n",
       "    </tr>\n",
       "    <tr>\n",
       "      <th>144</th>\n",
       "      <td>1028</td>\n",
       "      <td>/mnt/Enterprise/safal/AI_assisted_microscopy_s...</td>\n",
       "      <td>4128</td>\n",
       "      <td>3096</td>\n",
       "      <td>SS0983</td>\n",
       "    </tr>\n",
       "    <tr>\n",
       "      <th>145</th>\n",
       "      <td>1032</td>\n",
       "      <td>/mnt/Enterprise/safal/AI_assisted_microscopy_s...</td>\n",
       "      <td>4128</td>\n",
       "      <td>3096</td>\n",
       "      <td>SS0987</td>\n",
       "    </tr>\n",
       "    <tr>\n",
       "      <th>146</th>\n",
       "      <td>1044</td>\n",
       "      <td>/mnt/Enterprise/safal/AI_assisted_microscopy_s...</td>\n",
       "      <td>3096</td>\n",
       "      <td>4128</td>\n",
       "      <td>SS0998</td>\n",
       "    </tr>\n",
       "    <tr>\n",
       "      <th>147</th>\n",
       "      <td>1048</td>\n",
       "      <td>/mnt/Enterprise/safal/AI_assisted_microscopy_s...</td>\n",
       "      <td>4128</td>\n",
       "      <td>3096</td>\n",
       "      <td>SS1002</td>\n",
       "    </tr>\n",
       "  </tbody>\n",
       "</table>\n",
       "<p>148 rows × 5 columns</p>\n",
       "</div>"
      ],
      "text/plain": [
       "       id                                          file_name  height  width  \\\n",
       "0       1  /mnt/Enterprise/safal/AI_assisted_microscopy_s...    4128   3096   \n",
       "1       6  /mnt/Enterprise/safal/AI_assisted_microscopy_s...    3096   4128   \n",
       "2      24  /mnt/Enterprise/safal/AI_assisted_microscopy_s...    3096   4128   \n",
       "3      26  /mnt/Enterprise/safal/AI_assisted_microscopy_s...    3096   4128   \n",
       "4      36  /mnt/Enterprise/safal/AI_assisted_microscopy_s...    4128   3096   \n",
       "..    ...                                                ...     ...    ...   \n",
       "143   996  /mnt/Enterprise/safal/AI_assisted_microscopy_s...    3096   4128   \n",
       "144  1028  /mnt/Enterprise/safal/AI_assisted_microscopy_s...    4128   3096   \n",
       "145  1032  /mnt/Enterprise/safal/AI_assisted_microscopy_s...    4128   3096   \n",
       "146  1044  /mnt/Enterprise/safal/AI_assisted_microscopy_s...    3096   4128   \n",
       "147  1048  /mnt/Enterprise/safal/AI_assisted_microscopy_s...    4128   3096   \n",
       "\n",
       "    image_id  \n",
       "0     SS0001  \n",
       "1     SS0006  \n",
       "2     SS0023  \n",
       "3     SS0025  \n",
       "4     SS0034  \n",
       "..       ...  \n",
       "143   SS0954  \n",
       "144   SS0983  \n",
       "145   SS0987  \n",
       "146   SS0998  \n",
       "147   SS1002  \n",
       "\n",
       "[148 rows x 5 columns]"
      ]
     },
     "execution_count": 11,
     "metadata": {},
     "output_type": "execute_result"
    }
   ],
   "source": [
    "images_df"
   ]
  },
  {
   "cell_type": "code",
   "execution_count": 12,
   "metadata": {},
   "outputs": [],
   "source": [
    "gt_annos_df[\"bbox\"] = gt_annos_df[\"bbox\"].apply(\n",
    "    lambda x: [x[0], x[1], x[0] + x[2], x[1] + x[3]]\n",
    ")\n"
   ]
  },
  {
   "cell_type": "code",
   "execution_count": 13,
   "metadata": {},
   "outputs": [
    {
     "data": {
      "text/html": [
       "<div>\n",
       "<style scoped>\n",
       "    .dataframe tbody tr th:only-of-type {\n",
       "        vertical-align: middle;\n",
       "    }\n",
       "\n",
       "    .dataframe tbody tr th {\n",
       "        vertical-align: top;\n",
       "    }\n",
       "\n",
       "    .dataframe thead th {\n",
       "        text-align: right;\n",
       "    }\n",
       "</style>\n",
       "<table border=\"1\" class=\"dataframe\">\n",
       "  <thead>\n",
       "    <tr style=\"text-align: right;\">\n",
       "      <th></th>\n",
       "      <th>image_id</th>\n",
       "      <th>id</th>\n",
       "      <th>category_id</th>\n",
       "      <th>bbox</th>\n",
       "      <th>segmentation</th>\n",
       "      <th>iscrowd</th>\n",
       "      <th>area</th>\n",
       "    </tr>\n",
       "  </thead>\n",
       "  <tbody>\n",
       "    <tr>\n",
       "      <th>0</th>\n",
       "      <td>1</td>\n",
       "      <td>2</td>\n",
       "      <td>1</td>\n",
       "      <td>[1771.0326613268883, 2551.7569873168804, 1846....</td>\n",
       "      <td>[]</td>\n",
       "      <td>0</td>\n",
       "      <td>5807.941658</td>\n",
       "    </tr>\n",
       "    <tr>\n",
       "      <th>1</th>\n",
       "      <td>1</td>\n",
       "      <td>3</td>\n",
       "      <td>1</td>\n",
       "      <td>[846.0, 2532.0, 940.0, 2604.0]</td>\n",
       "      <td>[]</td>\n",
       "      <td>0</td>\n",
       "      <td>6768.000000</td>\n",
       "    </tr>\n",
       "    <tr>\n",
       "      <th>2</th>\n",
       "      <td>1</td>\n",
       "      <td>4</td>\n",
       "      <td>1</td>\n",
       "      <td>[1819.0, 2224.0, 1913.0, 2290.0]</td>\n",
       "      <td>[]</td>\n",
       "      <td>0</td>\n",
       "      <td>6204.000000</td>\n",
       "    </tr>\n",
       "    <tr>\n",
       "      <th>3</th>\n",
       "      <td>6</td>\n",
       "      <td>7</td>\n",
       "      <td>1</td>\n",
       "      <td>[1949.0, 2152.0, 2015.0, 2238.0]</td>\n",
       "      <td>[]</td>\n",
       "      <td>0</td>\n",
       "      <td>5676.000000</td>\n",
       "    </tr>\n",
       "    <tr>\n",
       "      <th>4</th>\n",
       "      <td>24</td>\n",
       "      <td>15</td>\n",
       "      <td>1</td>\n",
       "      <td>[3043.0, 1665.0, 3119.0, 1731.0]</td>\n",
       "      <td>[]</td>\n",
       "      <td>0</td>\n",
       "      <td>5016.000000</td>\n",
       "    </tr>\n",
       "    <tr>\n",
       "      <th>...</th>\n",
       "      <td>...</td>\n",
       "      <td>...</td>\n",
       "      <td>...</td>\n",
       "      <td>...</td>\n",
       "      <td>...</td>\n",
       "      <td>...</td>\n",
       "      <td>...</td>\n",
       "    </tr>\n",
       "    <tr>\n",
       "      <th>164</th>\n",
       "      <td>993</td>\n",
       "      <td>845</td>\n",
       "      <td>0</td>\n",
       "      <td>[2365.0, 1834.0, 2419.0, 1888.0]</td>\n",
       "      <td>[]</td>\n",
       "      <td>0</td>\n",
       "      <td>2916.000000</td>\n",
       "    </tr>\n",
       "    <tr>\n",
       "      <th>165</th>\n",
       "      <td>1028</td>\n",
       "      <td>871</td>\n",
       "      <td>1</td>\n",
       "      <td>[1953.0, 2633.0, 2079.0, 2691.0]</td>\n",
       "      <td>[]</td>\n",
       "      <td>0</td>\n",
       "      <td>7308.000000</td>\n",
       "    </tr>\n",
       "    <tr>\n",
       "      <th>166</th>\n",
       "      <td>1032</td>\n",
       "      <td>874</td>\n",
       "      <td>1</td>\n",
       "      <td>[1977.0, 2705.0, 2083.0, 2773.0]</td>\n",
       "      <td>[]</td>\n",
       "      <td>0</td>\n",
       "      <td>7208.000000</td>\n",
       "    </tr>\n",
       "    <tr>\n",
       "      <th>167</th>\n",
       "      <td>1044</td>\n",
       "      <td>890</td>\n",
       "      <td>0</td>\n",
       "      <td>[1427.0, 1329.0, 1481.0, 1373.0]</td>\n",
       "      <td>[]</td>\n",
       "      <td>0</td>\n",
       "      <td>2376.000000</td>\n",
       "    </tr>\n",
       "    <tr>\n",
       "      <th>168</th>\n",
       "      <td>1048</td>\n",
       "      <td>896</td>\n",
       "      <td>0</td>\n",
       "      <td>[1534.0, 2710.0, 1582.0, 2758.0]</td>\n",
       "      <td>[]</td>\n",
       "      <td>0</td>\n",
       "      <td>2304.000000</td>\n",
       "    </tr>\n",
       "  </tbody>\n",
       "</table>\n",
       "<p>169 rows × 7 columns</p>\n",
       "</div>"
      ],
      "text/plain": [
       "     image_id   id  category_id  \\\n",
       "0           1    2            1   \n",
       "1           1    3            1   \n",
       "2           1    4            1   \n",
       "3           6    7            1   \n",
       "4          24   15            1   \n",
       "..        ...  ...          ...   \n",
       "164       993  845            0   \n",
       "165      1028  871            1   \n",
       "166      1032  874            1   \n",
       "167      1044  890            0   \n",
       "168      1048  896            0   \n",
       "\n",
       "                                                  bbox segmentation  iscrowd  \\\n",
       "0    [1771.0326613268883, 2551.7569873168804, 1846....           []        0   \n",
       "1                       [846.0, 2532.0, 940.0, 2604.0]           []        0   \n",
       "2                     [1819.0, 2224.0, 1913.0, 2290.0]           []        0   \n",
       "3                     [1949.0, 2152.0, 2015.0, 2238.0]           []        0   \n",
       "4                     [3043.0, 1665.0, 3119.0, 1731.0]           []        0   \n",
       "..                                                 ...          ...      ...   \n",
       "164                   [2365.0, 1834.0, 2419.0, 1888.0]           []        0   \n",
       "165                   [1953.0, 2633.0, 2079.0, 2691.0]           []        0   \n",
       "166                   [1977.0, 2705.0, 2083.0, 2773.0]           []        0   \n",
       "167                   [1427.0, 1329.0, 1481.0, 1373.0]           []        0   \n",
       "168                   [1534.0, 2710.0, 1582.0, 2758.0]           []        0   \n",
       "\n",
       "            area  \n",
       "0    5807.941658  \n",
       "1    6768.000000  \n",
       "2    6204.000000  \n",
       "3    5676.000000  \n",
       "4    5016.000000  \n",
       "..           ...  \n",
       "164  2916.000000  \n",
       "165  7308.000000  \n",
       "166  7208.000000  \n",
       "167  2376.000000  \n",
       "168  2304.000000  \n",
       "\n",
       "[169 rows x 7 columns]"
      ]
     },
     "execution_count": 13,
     "metadata": {},
     "output_type": "execute_result"
    }
   ],
   "source": [
    "gt_annos_df"
   ]
  },
  {
   "cell_type": "code",
   "execution_count": 14,
   "metadata": {},
   "outputs": [],
   "source": [
    "# replace image_id of gt_annos_df with image_id of images_df\n",
    "gt_annos_df[\"image_id\"] = gt_annos_df[\"image_id\"].apply(\n",
    "    lambda x: images_df[images_df[\"id\"] == x][\"image_id\"].values[0]\n",
    ")\n",
    "\n",
    "# replace image_id of pred_annos_df with image_id of images_df\n",
    "# pred_annos_df[\"image_id\"] = pred_annos_df[\"image_id\"].apply(\n",
    "#     lambda x: images_df[images_df[\"id\"] == x][\"image_id\"].values[0]\n",
    "# )\n"
   ]
  },
  {
   "cell_type": "code",
   "execution_count": 15,
   "metadata": {},
   "outputs": [
    {
     "data": {
      "text/html": [
       "<div>\n",
       "<style scoped>\n",
       "    .dataframe tbody tr th:only-of-type {\n",
       "        vertical-align: middle;\n",
       "    }\n",
       "\n",
       "    .dataframe tbody tr th {\n",
       "        vertical-align: top;\n",
       "    }\n",
       "\n",
       "    .dataframe thead th {\n",
       "        text-align: right;\n",
       "    }\n",
       "</style>\n",
       "<table border=\"1\" class=\"dataframe\">\n",
       "  <thead>\n",
       "    <tr style=\"text-align: right;\">\n",
       "      <th></th>\n",
       "      <th>image_id</th>\n",
       "      <th>id</th>\n",
       "      <th>category_id</th>\n",
       "      <th>bbox</th>\n",
       "      <th>segmentation</th>\n",
       "      <th>iscrowd</th>\n",
       "      <th>area</th>\n",
       "    </tr>\n",
       "  </thead>\n",
       "  <tbody>\n",
       "    <tr>\n",
       "      <th>0</th>\n",
       "      <td>SS0001</td>\n",
       "      <td>2</td>\n",
       "      <td>1</td>\n",
       "      <td>[1771.0326613268883, 2551.7569873168804, 1846....</td>\n",
       "      <td>[]</td>\n",
       "      <td>0</td>\n",
       "      <td>5807.941658</td>\n",
       "    </tr>\n",
       "    <tr>\n",
       "      <th>1</th>\n",
       "      <td>SS0001</td>\n",
       "      <td>3</td>\n",
       "      <td>1</td>\n",
       "      <td>[846.0, 2532.0, 940.0, 2604.0]</td>\n",
       "      <td>[]</td>\n",
       "      <td>0</td>\n",
       "      <td>6768.000000</td>\n",
       "    </tr>\n",
       "    <tr>\n",
       "      <th>2</th>\n",
       "      <td>SS0001</td>\n",
       "      <td>4</td>\n",
       "      <td>1</td>\n",
       "      <td>[1819.0, 2224.0, 1913.0, 2290.0]</td>\n",
       "      <td>[]</td>\n",
       "      <td>0</td>\n",
       "      <td>6204.000000</td>\n",
       "    </tr>\n",
       "    <tr>\n",
       "      <th>3</th>\n",
       "      <td>SS0006</td>\n",
       "      <td>7</td>\n",
       "      <td>1</td>\n",
       "      <td>[1949.0, 2152.0, 2015.0, 2238.0]</td>\n",
       "      <td>[]</td>\n",
       "      <td>0</td>\n",
       "      <td>5676.000000</td>\n",
       "    </tr>\n",
       "    <tr>\n",
       "      <th>4</th>\n",
       "      <td>SS0023</td>\n",
       "      <td>15</td>\n",
       "      <td>1</td>\n",
       "      <td>[3043.0, 1665.0, 3119.0, 1731.0]</td>\n",
       "      <td>[]</td>\n",
       "      <td>0</td>\n",
       "      <td>5016.000000</td>\n",
       "    </tr>\n",
       "    <tr>\n",
       "      <th>...</th>\n",
       "      <td>...</td>\n",
       "      <td>...</td>\n",
       "      <td>...</td>\n",
       "      <td>...</td>\n",
       "      <td>...</td>\n",
       "      <td>...</td>\n",
       "      <td>...</td>\n",
       "    </tr>\n",
       "    <tr>\n",
       "      <th>164</th>\n",
       "      <td>SS0951</td>\n",
       "      <td>845</td>\n",
       "      <td>0</td>\n",
       "      <td>[2365.0, 1834.0, 2419.0, 1888.0]</td>\n",
       "      <td>[]</td>\n",
       "      <td>0</td>\n",
       "      <td>2916.000000</td>\n",
       "    </tr>\n",
       "    <tr>\n",
       "      <th>165</th>\n",
       "      <td>SS0983</td>\n",
       "      <td>871</td>\n",
       "      <td>1</td>\n",
       "      <td>[1953.0, 2633.0, 2079.0, 2691.0]</td>\n",
       "      <td>[]</td>\n",
       "      <td>0</td>\n",
       "      <td>7308.000000</td>\n",
       "    </tr>\n",
       "    <tr>\n",
       "      <th>166</th>\n",
       "      <td>SS0987</td>\n",
       "      <td>874</td>\n",
       "      <td>1</td>\n",
       "      <td>[1977.0, 2705.0, 2083.0, 2773.0]</td>\n",
       "      <td>[]</td>\n",
       "      <td>0</td>\n",
       "      <td>7208.000000</td>\n",
       "    </tr>\n",
       "    <tr>\n",
       "      <th>167</th>\n",
       "      <td>SS0998</td>\n",
       "      <td>890</td>\n",
       "      <td>0</td>\n",
       "      <td>[1427.0, 1329.0, 1481.0, 1373.0]</td>\n",
       "      <td>[]</td>\n",
       "      <td>0</td>\n",
       "      <td>2376.000000</td>\n",
       "    </tr>\n",
       "    <tr>\n",
       "      <th>168</th>\n",
       "      <td>SS1002</td>\n",
       "      <td>896</td>\n",
       "      <td>0</td>\n",
       "      <td>[1534.0, 2710.0, 1582.0, 2758.0]</td>\n",
       "      <td>[]</td>\n",
       "      <td>0</td>\n",
       "      <td>2304.000000</td>\n",
       "    </tr>\n",
       "  </tbody>\n",
       "</table>\n",
       "<p>169 rows × 7 columns</p>\n",
       "</div>"
      ],
      "text/plain": [
       "    image_id   id  category_id  \\\n",
       "0     SS0001    2            1   \n",
       "1     SS0001    3            1   \n",
       "2     SS0001    4            1   \n",
       "3     SS0006    7            1   \n",
       "4     SS0023   15            1   \n",
       "..       ...  ...          ...   \n",
       "164   SS0951  845            0   \n",
       "165   SS0983  871            1   \n",
       "166   SS0987  874            1   \n",
       "167   SS0998  890            0   \n",
       "168   SS1002  896            0   \n",
       "\n",
       "                                                  bbox segmentation  iscrowd  \\\n",
       "0    [1771.0326613268883, 2551.7569873168804, 1846....           []        0   \n",
       "1                       [846.0, 2532.0, 940.0, 2604.0]           []        0   \n",
       "2                     [1819.0, 2224.0, 1913.0, 2290.0]           []        0   \n",
       "3                     [1949.0, 2152.0, 2015.0, 2238.0]           []        0   \n",
       "4                     [3043.0, 1665.0, 3119.0, 1731.0]           []        0   \n",
       "..                                                 ...          ...      ...   \n",
       "164                   [2365.0, 1834.0, 2419.0, 1888.0]           []        0   \n",
       "165                   [1953.0, 2633.0, 2079.0, 2691.0]           []        0   \n",
       "166                   [1977.0, 2705.0, 2083.0, 2773.0]           []        0   \n",
       "167                   [1427.0, 1329.0, 1481.0, 1373.0]           []        0   \n",
       "168                   [1534.0, 2710.0, 1582.0, 2758.0]           []        0   \n",
       "\n",
       "            area  \n",
       "0    5807.941658  \n",
       "1    6768.000000  \n",
       "2    6204.000000  \n",
       "3    5676.000000  \n",
       "4    5016.000000  \n",
       "..           ...  \n",
       "164  2916.000000  \n",
       "165  7308.000000  \n",
       "166  7208.000000  \n",
       "167  2376.000000  \n",
       "168  2304.000000  \n",
       "\n",
       "[169 rows x 7 columns]"
      ]
     },
     "execution_count": 15,
     "metadata": {},
     "output_type": "execute_result"
    }
   ],
   "source": [
    "gt_annos_df"
   ]
  },
  {
   "cell_type": "code",
   "execution_count": 16,
   "metadata": {},
   "outputs": [
    {
     "data": {
      "text/html": [
       "<div>\n",
       "<style scoped>\n",
       "    .dataframe tbody tr th:only-of-type {\n",
       "        vertical-align: middle;\n",
       "    }\n",
       "\n",
       "    .dataframe tbody tr th {\n",
       "        vertical-align: top;\n",
       "    }\n",
       "\n",
       "    .dataframe thead th {\n",
       "        text-align: right;\n",
       "    }\n",
       "</style>\n",
       "<table border=\"1\" class=\"dataframe\">\n",
       "  <thead>\n",
       "    <tr style=\"text-align: right;\">\n",
       "      <th></th>\n",
       "      <th>image_id</th>\n",
       "      <th>category_id</th>\n",
       "      <th>bbox</th>\n",
       "      <th>score</th>\n",
       "    </tr>\n",
       "  </thead>\n",
       "  <tbody>\n",
       "    <tr>\n",
       "      <th>0</th>\n",
       "      <td>SS0328</td>\n",
       "      <td>0</td>\n",
       "      <td>[1256.137, 1406.906, 1310.962, 1466.568]</td>\n",
       "      <td>0.35132</td>\n",
       "    </tr>\n",
       "    <tr>\n",
       "      <th>1</th>\n",
       "      <td>SS0328</td>\n",
       "      <td>0</td>\n",
       "      <td>[1256.137, 1410.938, 1320.637, 1475.438]</td>\n",
       "      <td>0.02988</td>\n",
       "    </tr>\n",
       "    <tr>\n",
       "      <th>2</th>\n",
       "      <td>SS0328</td>\n",
       "      <td>1</td>\n",
       "      <td>[1259.362, 1406.1, 1319.0240000000001, 1467.375]</td>\n",
       "      <td>0.00710</td>\n",
       "    </tr>\n",
       "    <tr>\n",
       "      <th>3</th>\n",
       "      <td>SS0481</td>\n",
       "      <td>0</td>\n",
       "      <td>[2467.125, 1286.775, 2518.725, 1341.6000000000...</td>\n",
       "      <td>0.11920</td>\n",
       "    </tr>\n",
       "    <tr>\n",
       "      <th>4</th>\n",
       "      <td>SS0481</td>\n",
       "      <td>0</td>\n",
       "      <td>[1089.244, 1050.544, 1182.769, 1152.132]</td>\n",
       "      <td>0.04053</td>\n",
       "    </tr>\n",
       "    <tr>\n",
       "      <th>...</th>\n",
       "      <td>...</td>\n",
       "      <td>...</td>\n",
       "      <td>...</td>\n",
       "      <td>...</td>\n",
       "    </tr>\n",
       "    <tr>\n",
       "      <th>1130</th>\n",
       "      <td>SS0777</td>\n",
       "      <td>0</td>\n",
       "      <td>[1854.375, 2318.775, 1918.875, 2389.725]</td>\n",
       "      <td>0.11438</td>\n",
       "    </tr>\n",
       "    <tr>\n",
       "      <th>1131</th>\n",
       "      <td>SS0777</td>\n",
       "      <td>0</td>\n",
       "      <td>[1844.7, 2347.8, 1915.65, 2431.65]</td>\n",
       "      <td>0.01401</td>\n",
       "    </tr>\n",
       "    <tr>\n",
       "      <th>1132</th>\n",
       "      <td>SS0777</td>\n",
       "      <td>0</td>\n",
       "      <td>[1153.744, 2979.9, 1219.05, 3037.9500000000003]</td>\n",
       "      <td>0.00878</td>\n",
       "    </tr>\n",
       "    <tr>\n",
       "      <th>1133</th>\n",
       "      <td>SS0777</td>\n",
       "      <td>0</td>\n",
       "      <td>[657.9, 2234.925, 732.0749999999999, 2305.875]</td>\n",
       "      <td>0.00374</td>\n",
       "    </tr>\n",
       "    <tr>\n",
       "      <th>1134</th>\n",
       "      <td>SS0777</td>\n",
       "      <td>0</td>\n",
       "      <td>[1820.512, 1499.625, 1901.137, 1583.475]</td>\n",
       "      <td>0.00140</td>\n",
       "    </tr>\n",
       "  </tbody>\n",
       "</table>\n",
       "<p>1135 rows × 4 columns</p>\n",
       "</div>"
      ],
      "text/plain": [
       "     image_id  category_id                                               bbox  \\\n",
       "0      SS0328            0           [1256.137, 1406.906, 1310.962, 1466.568]   \n",
       "1      SS0328            0           [1256.137, 1410.938, 1320.637, 1475.438]   \n",
       "2      SS0328            1   [1259.362, 1406.1, 1319.0240000000001, 1467.375]   \n",
       "3      SS0481            0  [2467.125, 1286.775, 2518.725, 1341.6000000000...   \n",
       "4      SS0481            0           [1089.244, 1050.544, 1182.769, 1152.132]   \n",
       "...       ...          ...                                                ...   \n",
       "1130   SS0777            0           [1854.375, 2318.775, 1918.875, 2389.725]   \n",
       "1131   SS0777            0                 [1844.7, 2347.8, 1915.65, 2431.65]   \n",
       "1132   SS0777            0    [1153.744, 2979.9, 1219.05, 3037.9500000000003]   \n",
       "1133   SS0777            0     [657.9, 2234.925, 732.0749999999999, 2305.875]   \n",
       "1134   SS0777            0           [1820.512, 1499.625, 1901.137, 1583.475]   \n",
       "\n",
       "        score  \n",
       "0     0.35132  \n",
       "1     0.02988  \n",
       "2     0.00710  \n",
       "3     0.11920  \n",
       "4     0.04053  \n",
       "...       ...  \n",
       "1130  0.11438  \n",
       "1131  0.01401  \n",
       "1132  0.00878  \n",
       "1133  0.00374  \n",
       "1134  0.00140  \n",
       "\n",
       "[1135 rows x 4 columns]"
      ]
     },
     "execution_count": 16,
     "metadata": {},
     "output_type": "execute_result"
    }
   ],
   "source": [
    "pred_annos_df"
   ]
  },
  {
   "cell_type": "code",
   "execution_count": 17,
   "metadata": {},
   "outputs": [],
   "source": [
    "categories = sorted(gt_annos_df.category_id.unique())\n",
    "\n",
    "    # dataframe to store the precision, recall and f1 score for each class\n",
    "metrics_df = pd.DataFrame(\n",
    "    columns=[\"category\", \"precision\", \"recall\", \"f1_score\", \"TP\", \"FP\"]\n",
    ")"
   ]
  },
  {
   "cell_type": "code",
   "execution_count": 18,
   "metadata": {},
   "outputs": [],
   "source": [
    "precisions = dict(\n",
    "    (category, []) for category in categories\n",
    ")\n",
    "recalls = dict((category, []) for category in categories)\n"
   ]
  },
  {
   "cell_type": "code",
   "execution_count": 19,
   "metadata": {},
   "outputs": [
    {
     "data": {
      "text/plain": [
       "{0: [], 1: []}"
      ]
     },
     "execution_count": 19,
     "metadata": {},
     "output_type": "execute_result"
    }
   ],
   "source": [
    "precisions"
   ]
  },
  {
   "cell_type": "code",
   "execution_count": 20,
   "metadata": {},
   "outputs": [],
   "source": [
    "# for category in categories:\n",
    "category = 1\n",
    "# get the ground truth annotations for the current class\n",
    "gt_annos_df_class = gt_annos_df[\n",
    "    gt_annos_df.category_id == category\n",
    "]\n",
    "# get the predicted annotations for the current class\n",
    "pred_annos_df_class = pred_annos_df[\n",
    "    pred_annos_df.category_id == category\n",
    "]\n",
    "\n",
    "# sort the predicted annotations by score\n",
    "pred_annos_df_class = pred_annos_df_class.sort_values(\n",
    "    by=\"score\", ascending=False\n",
    ")\n",
    "\n",
    "# filter predictions with score > 0.001\n",
    "# pred_annos_df_class = pred_annos_df_class[\n",
    "#     pred_annos_df_class.score > 0.3\n",
    "# ]\n",
    "\n",
    "true_positives_class = 0\n",
    "false_positives_class = 0\n",
    "\n",
    "# get image ids for the current class from both ground truth and predicted annotations\n",
    "image_ids = pred_annos_df_class[\"image_id\"].unique()\n",
    "images_len = len(image_ids)\n"
   ]
  },
  {
   "cell_type": "code",
   "execution_count": 21,
   "metadata": {},
   "outputs": [
    {
     "data": {
      "text/html": [
       "<div>\n",
       "<style scoped>\n",
       "    .dataframe tbody tr th:only-of-type {\n",
       "        vertical-align: middle;\n",
       "    }\n",
       "\n",
       "    .dataframe tbody tr th {\n",
       "        vertical-align: top;\n",
       "    }\n",
       "\n",
       "    .dataframe thead th {\n",
       "        text-align: right;\n",
       "    }\n",
       "</style>\n",
       "<table border=\"1\" class=\"dataframe\">\n",
       "  <thead>\n",
       "    <tr style=\"text-align: right;\">\n",
       "      <th></th>\n",
       "      <th>image_id</th>\n",
       "      <th>category_id</th>\n",
       "      <th>bbox</th>\n",
       "      <th>score</th>\n",
       "    </tr>\n",
       "  </thead>\n",
       "  <tbody>\n",
       "    <tr>\n",
       "      <th>15</th>\n",
       "      <td>SS0474</td>\n",
       "      <td>1</td>\n",
       "      <td>[1269.038, 1907.587, 1359.338, 2049.487]</td>\n",
       "      <td>0.79688</td>\n",
       "    </tr>\n",
       "    <tr>\n",
       "      <th>566</th>\n",
       "      <td>SS0006</td>\n",
       "      <td>1</td>\n",
       "      <td>[1946.287, 2154.3, 2010.787, 2251.05]</td>\n",
       "      <td>0.79053</td>\n",
       "    </tr>\n",
       "    <tr>\n",
       "      <th>870</th>\n",
       "      <td>SS0244</td>\n",
       "      <td>1</td>\n",
       "      <td>[1371.431, 2631.6, 1463.344, 2696.1]</td>\n",
       "      <td>0.78906</td>\n",
       "    </tr>\n",
       "    <tr>\n",
       "      <th>625</th>\n",
       "      <td>SS0233</td>\n",
       "      <td>1</td>\n",
       "      <td>[1465.762, 1597.987, 1565.7369999999999, 1662....</td>\n",
       "      <td>0.78418</td>\n",
       "    </tr>\n",
       "    <tr>\n",
       "      <th>48</th>\n",
       "      <td>SS0402</td>\n",
       "      <td>1</td>\n",
       "      <td>[1270.65, 1699.575, 1364.1750000000002, 1828.575]</td>\n",
       "      <td>0.76465</td>\n",
       "    </tr>\n",
       "    <tr>\n",
       "      <th>...</th>\n",
       "      <td>...</td>\n",
       "      <td>...</td>\n",
       "      <td>...</td>\n",
       "      <td>...</td>\n",
       "    </tr>\n",
       "    <tr>\n",
       "      <th>835</th>\n",
       "      <td>SS0535</td>\n",
       "      <td>1</td>\n",
       "      <td>[2370.375, 1256.137, 2460.675, 1333.537]</td>\n",
       "      <td>0.00104</td>\n",
       "    </tr>\n",
       "    <tr>\n",
       "      <th>836</th>\n",
       "      <td>SS0535</td>\n",
       "      <td>1</td>\n",
       "      <td>[1115.85, 1796.325, 1177.125, 1854.375]</td>\n",
       "      <td>0.00103</td>\n",
       "    </tr>\n",
       "    <tr>\n",
       "      <th>647</th>\n",
       "      <td>SS0232</td>\n",
       "      <td>1</td>\n",
       "      <td>[2500.987, 959.438, 2617.087, 1049.738]</td>\n",
       "      <td>0.00101</td>\n",
       "    </tr>\n",
       "    <tr>\n",
       "      <th>316</th>\n",
       "      <td>SS0595</td>\n",
       "      <td>1</td>\n",
       "      <td>[2602.575, 2060.775, 2660.625, 2112.375]</td>\n",
       "      <td>0.00101</td>\n",
       "    </tr>\n",
       "    <tr>\n",
       "      <th>414</th>\n",
       "      <td>SS0126</td>\n",
       "      <td>1</td>\n",
       "      <td>[950.569, 1215.825, 1021.519, 1283.55]</td>\n",
       "      <td>0.00100</td>\n",
       "    </tr>\n",
       "  </tbody>\n",
       "</table>\n",
       "<p>317 rows × 4 columns</p>\n",
       "</div>"
      ],
      "text/plain": [
       "    image_id  category_id                                               bbox  \\\n",
       "15    SS0474            1           [1269.038, 1907.587, 1359.338, 2049.487]   \n",
       "566   SS0006            1              [1946.287, 2154.3, 2010.787, 2251.05]   \n",
       "870   SS0244            1               [1371.431, 2631.6, 1463.344, 2696.1]   \n",
       "625   SS0233            1  [1465.762, 1597.987, 1565.7369999999999, 1662....   \n",
       "48    SS0402            1  [1270.65, 1699.575, 1364.1750000000002, 1828.575]   \n",
       "..       ...          ...                                                ...   \n",
       "835   SS0535            1           [2370.375, 1256.137, 2460.675, 1333.537]   \n",
       "836   SS0535            1            [1115.85, 1796.325, 1177.125, 1854.375]   \n",
       "647   SS0232            1            [2500.987, 959.438, 2617.087, 1049.738]   \n",
       "316   SS0595            1           [2602.575, 2060.775, 2660.625, 2112.375]   \n",
       "414   SS0126            1             [950.569, 1215.825, 1021.519, 1283.55]   \n",
       "\n",
       "       score  \n",
       "15   0.79688  \n",
       "566  0.79053  \n",
       "870  0.78906  \n",
       "625  0.78418  \n",
       "48   0.76465  \n",
       "..       ...  \n",
       "835  0.00104  \n",
       "836  0.00103  \n",
       "647  0.00101  \n",
       "316  0.00101  \n",
       "414  0.00100  \n",
       "\n",
       "[317 rows x 4 columns]"
      ]
     },
     "execution_count": 21,
     "metadata": {},
     "output_type": "execute_result"
    }
   ],
   "source": [
    "pred_annos_df_class"
   ]
  },
  {
   "cell_type": "code",
   "execution_count": 22,
   "metadata": {},
   "outputs": [
    {
     "data": {
      "text/plain": [
       "{'SS0001',\n",
       " 'SS0006',\n",
       " 'SS0023',\n",
       " 'SS0025',\n",
       " 'SS0034',\n",
       " 'SS0044',\n",
       " 'SS0049',\n",
       " 'SS0076',\n",
       " 'SS0094',\n",
       " 'SS0102',\n",
       " 'SS0118',\n",
       " 'SS0129',\n",
       " 'SS0134',\n",
       " 'SS0139',\n",
       " 'SS0144',\n",
       " 'SS0147',\n",
       " 'SS0151',\n",
       " 'SS0152',\n",
       " 'SS0187',\n",
       " 'SS0197',\n",
       " 'SS0229',\n",
       " 'SS0232',\n",
       " 'SS0233',\n",
       " 'SS0234',\n",
       " 'SS0244',\n",
       " 'SS0248',\n",
       " 'SS0295',\n",
       " 'SS0296',\n",
       " 'SS0354',\n",
       " 'SS0382',\n",
       " 'SS0385',\n",
       " 'SS0402',\n",
       " 'SS0464',\n",
       " 'SS0474',\n",
       " 'SS0476',\n",
       " 'SS0481',\n",
       " 'SS0483',\n",
       " 'SS0628',\n",
       " 'SS0698',\n",
       " 'SS0715',\n",
       " 'SS0917',\n",
       " 'SS0946',\n",
       " 'SS0983',\n",
       " 'SS0987'}"
      ]
     },
     "execution_count": 22,
     "metadata": {},
     "output_type": "execute_result"
    }
   ],
   "source": [
    "set(pred_annos_df_class[\"image_id\"].unique()).intersection(set(gt_annos_df_class[\"image_id\"].unique()))"
   ]
  },
  {
   "cell_type": "code",
   "execution_count": 23,
   "metadata": {},
   "outputs": [
    {
     "data": {
      "text/plain": [
       "array(['SS0474', 'SS0006', 'SS0244', 'SS0233', 'SS0402', 'SS0049',\n",
       "       'SS0483', 'SS0094', 'SS0102', 'SS0983', 'SS0134', 'SS0118',\n",
       "       'SS0197', 'SS0946', 'SS0139', 'SS0232', 'SS0291', 'SS0476',\n",
       "       'SS0464', 'SS0296', 'SS0229', 'SS0987', 'SS0354', 'SS0187',\n",
       "       'SS0295', 'SS0382', 'SS0025', 'SS0152', 'SS0248', 'SS0910',\n",
       "       'SS0340', 'SS0144', 'SS0234', 'SS0309', 'SS0385', 'SS0342',\n",
       "       'SS0998', 'SS0412', 'SS0341', 'SS0023', 'SS0151', 'SS0192',\n",
       "       'SS0742', 'SS0636', 'SS0898', 'SS0147', 'SS0143', 'SS0862',\n",
       "       'SS0172', 'SS0129', 'SS0044', 'SS0034', 'SS0528', 'SS0653',\n",
       "       'SS0544', 'SS0917', 'SS0438', 'SS0428', 'SS0290', 'SS0795',\n",
       "       'SS0864', 'SS0863', 'SS0035', 'SS0344', 'SS0089', 'SS0576',\n",
       "       'SS0305', 'SS0310', 'SS0126', 'SS0274', 'SS0552', 'SS0508',\n",
       "       'SS0953', 'SS0655', 'SS0355', 'SS0542', 'SS0328', 'SS0076',\n",
       "       'SS0654', 'SS0436', 'SS0271', 'SS0183', 'SS0786', 'SS0635',\n",
       "       'SS0001', 'SS0565', 'SS0538', 'SS0051', 'SS0769', 'SS0845',\n",
       "       'SS0775', 'SS0951', 'SS0634', 'SS0546', 'SS0628', 'SS0815',\n",
       "       'SS0481', 'SS0872', 'SS0378', 'SS0377', 'SS0938', 'SS0895',\n",
       "       'SS1002', 'SS0664', 'SS0933', 'SS0595', 'SS0058', 'SS0720',\n",
       "       'SS0911', 'SS0762', 'SS0684', 'SS0954', 'SS0778', 'SS0052',\n",
       "       'SS0715', 'SS0525', 'SS0269', 'SS0825', 'SS0749', 'SS0517',\n",
       "       'SS0605', 'SS0698', 'SS0675', 'SS0649', 'SS0535'], dtype=object)"
      ]
     },
     "execution_count": 23,
     "metadata": {},
     "output_type": "execute_result"
    }
   ],
   "source": [
    "image_ids"
   ]
  },
  {
   "cell_type": "code",
   "execution_count": 42,
   "metadata": {},
   "outputs": [],
   "source": [
    "\n",
    "# for image in image_ids:\n",
    "image = \"SS0233\"\n",
    "# get the ground truth annotations for the current image\n",
    "gt_annos_df_image = gt_annos_df_class[\n",
    "    gt_annos_df_class.image_id == image\n",
    "]\n",
    "# get the predicted annotations for the current image\n",
    "pred_annos_df_image = pred_annos_df_class[\n",
    "    pred_annos_df_class.image_id == image\n",
    "]\n",
    "\n",
    "# get the ground truth bounding boxes\n",
    "gt_bboxes = list(gt_annos_df_image.bbox.values)\n",
    "gt_bboxes = torch.tensor(gt_bboxes)\n",
    "\n",
    "# get the predicted bounding boxes\n",
    "pred_bboxes = list(pred_annos_df_image.bbox.values)\n",
    "pred_bboxes = torch.tensor(pred_bboxes)\n"
   ]
  },
  {
   "cell_type": "code",
   "execution_count": 43,
   "metadata": {},
   "outputs": [],
   "source": [
    "\n",
    "# if len(gt_bboxes) == 0:\n",
    "#     false_positives_class += len(pred_bboxes)\n",
    "#     precisions[category].append(\n",
    "#         true_positives_class / (true_positives_class + false_positives_class)\n",
    "#     )\n",
    "#     recalls[category].append(\n",
    "#         true_positives_class / gt_annos_df_class.shape[0]\n",
    "#     )\n",
    "#     continue\n"
   ]
  },
  {
   "cell_type": "code",
   "execution_count": 44,
   "metadata": {},
   "outputs": [
    {
     "data": {
      "text/plain": [
       "tensor([[1449., 1595., 1557., 1649.],\n",
       "        [ 188., 1902.,  318., 2004.],\n",
       "        [ 326.,  919.,  470., 1005.]])"
      ]
     },
     "execution_count": 44,
     "metadata": {},
     "output_type": "execute_result"
    }
   ],
   "source": [
    "gt_bboxes"
   ]
  },
  {
   "cell_type": "code",
   "execution_count": 45,
   "metadata": {},
   "outputs": [
    {
     "data": {
      "text/plain": [
       "tensor([[1465.7620, 1597.9871, 1565.7371, 1662.4871],\n",
       "        [ 171.3280, 1889.8500,  334.5940, 2002.7250],\n",
       "        [2476.8000,  998.1380, 2573.5500, 1085.2130],\n",
       "        [ 928.8000, 1248.0750,  973.9500, 1306.1250]])"
      ]
     },
     "execution_count": 45,
     "metadata": {},
     "output_type": "execute_result"
    }
   ],
   "source": [
    "pred_bboxes"
   ]
  },
  {
   "cell_type": "code",
   "execution_count": 46,
   "metadata": {},
   "outputs": [],
   "source": [
    "\n",
    "# get the intersection over union for each predicted bounding box\n",
    "ious = box_iou(pred_bboxes, gt_bboxes)\n"
   ]
  },
  {
   "cell_type": "code",
   "execution_count": 47,
   "metadata": {},
   "outputs": [
    {
     "data": {
      "text/plain": [
       "tensor([[0.6103, 0.0000, 0.0000],\n",
       "        [0.0000, 0.7042, 0.0000],\n",
       "        [0.0000, 0.0000, 0.0000],\n",
       "        [0.0000, 0.0000, 0.0000]])"
      ]
     },
     "execution_count": 47,
     "metadata": {},
     "output_type": "execute_result"
    }
   ],
   "source": [
    "ious"
   ]
  },
  {
   "cell_type": "code",
   "execution_count": 48,
   "metadata": {},
   "outputs": [],
   "source": [
    "\n",
    "# get the maximum iou for each ground truth bounding box\n",
    "max_ious, max_idxs = torch.max(ious, dim=1)\n"
   ]
  },
  {
   "cell_type": "code",
   "execution_count": 49,
   "metadata": {},
   "outputs": [
    {
     "data": {
      "text/plain": [
       "(tensor([0.6103, 0.7042, 0.0000, 0.0000]), tensor([0, 1, 0, 0]))"
      ]
     },
     "execution_count": 49,
     "metadata": {},
     "output_type": "execute_result"
    }
   ],
   "source": [
    "max_ious , max_idxs"
   ]
  },
  {
   "cell_type": "code",
   "execution_count": 50,
   "metadata": {},
   "outputs": [],
   "source": [
    "gt_matched = torch.zeros(gt_bboxes.shape[0])"
   ]
  },
  {
   "cell_type": "code",
   "execution_count": 51,
   "metadata": {},
   "outputs": [
    {
     "data": {
      "text/plain": [
       "tensor([0., 0., 0.])"
      ]
     },
     "execution_count": 51,
     "metadata": {},
     "output_type": "execute_result"
    }
   ],
   "source": [
    "gt_matched"
   ]
  },
  {
   "cell_type": "code",
   "execution_count": 52,
   "metadata": {},
   "outputs": [],
   "source": [
    "for i, pred_bbox in enumerate(pred_bboxes):\n",
    "    iou_pred, gt_idx = max_ious[i], max_idxs[i]\n",
    "    if iou_pred > 0.5:\n",
    "        if gt_matched[gt_idx] == 0:\n",
    "            true_positives_class += 1\n",
    "            gt_matched[gt_idx] = 1\n",
    "        else:\n",
    "            false_positives_class += 1\n",
    "    else:\n",
    "        false_positives_class += 1\n"
   ]
  },
  {
   "cell_type": "code",
   "execution_count": 53,
   "metadata": {},
   "outputs": [
    {
     "data": {
      "text/plain": [
       "2"
      ]
     },
     "execution_count": 53,
     "metadata": {},
     "output_type": "execute_result"
    }
   ],
   "source": [
    "true_positives_class"
   ]
  },
  {
   "cell_type": "code",
   "execution_count": 54,
   "metadata": {},
   "outputs": [],
   "source": [
    "\n",
    "# get the indices of the predicted bounding boxes with iou > 0.5\n",
    "tp_indices = torch.where(max_ious >= 0.5)[0]\n",
    "# print(ious)\n",
    "\n",
    "# get the indices of the predicted bounding boxes with iou < 0.5\n",
    "fp_indices = torch.where(max_ious < 0.5)[0]\n"
   ]
  },
  {
   "cell_type": "code",
   "execution_count": 55,
   "metadata": {},
   "outputs": [
    {
     "data": {
      "text/plain": [
       "tensor([2, 3])"
      ]
     },
     "execution_count": 55,
     "metadata": {},
     "output_type": "execute_result"
    }
   ],
   "source": [
    "fp_indices"
   ]
  },
  {
   "cell_type": "code",
   "execution_count": 56,
   "metadata": {},
   "outputs": [],
   "source": [
    "\n",
    "# update the true positives and false positives\n",
    "true_positives_class += len(tp_indices)\n",
    "false_positives_class += len(fp_indices)\n",
    "precisions[category].append(\n",
    "    true_positives_class / (true_positives_class + false_positives_class)\n",
    ")\n",
    "recalls[category].append(\n",
    "    true_positives_class / gt_annos_df_class.shape[0]\n",
    ")\n",
    "\n",
    "# calculate the precision and recall\n",
    "precision = true_positives_class / (\n",
    "true_positives_class + false_positives_class\n",
    ")\n",
    "recall = true_positives_class / gt_annos_df_class.shape[0]\n",
    "\n",
    "category_name = gt_annos[\"categories\"][category][\"name\"]\n",
    "f1_score = 2 * (precision * recall) / (precision + recall)\n",
    "\n",
    "category_metrics_df = pd.DataFrame(\n",
    "{\n",
    "    \"category\": category_name,\n",
    "    \"precision\": precision,\n",
    "    \"recall\": recall,\n",
    "    \"f1_score\": f1_score,\n",
    "    \"TP\": true_positives_class,\n",
    "    \"FP\": false_positives_class,\n",
    "},\n",
    "index=[0],\n",
    ")\n",
    "\n",
    "# concatenate the metrics for the current class to the metrics dataframe\n",
    "metrics_df = pd.concat([metrics_df, category_metrics_df], axis=0)\n"
   ]
  },
  {
   "cell_type": "code",
   "execution_count": 57,
   "metadata": {},
   "outputs": [
    {
     "data": {
      "text/html": [
       "<div>\n",
       "<style scoped>\n",
       "    .dataframe tbody tr th:only-of-type {\n",
       "        vertical-align: middle;\n",
       "    }\n",
       "\n",
       "    .dataframe tbody tr th {\n",
       "        vertical-align: top;\n",
       "    }\n",
       "\n",
       "    .dataframe thead th {\n",
       "        text-align: right;\n",
       "    }\n",
       "</style>\n",
       "<table border=\"1\" class=\"dataframe\">\n",
       "  <thead>\n",
       "    <tr style=\"text-align: right;\">\n",
       "      <th></th>\n",
       "      <th>category</th>\n",
       "      <th>precision</th>\n",
       "      <th>recall</th>\n",
       "      <th>f1_score</th>\n",
       "      <th>TP</th>\n",
       "      <th>FP</th>\n",
       "    </tr>\n",
       "  </thead>\n",
       "  <tbody>\n",
       "    <tr>\n",
       "      <th>0</th>\n",
       "      <td>Giardia</td>\n",
       "      <td>0.5</td>\n",
       "      <td>0.067797</td>\n",
       "      <td>0.119403</td>\n",
       "      <td>4</td>\n",
       "      <td>4</td>\n",
       "    </tr>\n",
       "  </tbody>\n",
       "</table>\n",
       "</div>"
      ],
      "text/plain": [
       "  category  precision    recall  f1_score TP FP\n",
       "0  Giardia        0.5  0.067797  0.119403  4  4"
      ]
     },
     "execution_count": 57,
     "metadata": {},
     "output_type": "execute_result"
    }
   ],
   "source": [
    "metrics_df"
   ]
  },
  {
   "cell_type": "code",
   "execution_count": 58,
   "metadata": {},
   "outputs": [
    {
     "data": {
      "image/png": "[encoded data removed]",
      "text/plain": [
       "<Figure size 640x480 with 1 Axes>"
      ]
     },
     "metadata": {},
     "output_type": "display_data"
    }
   ],
   "source": [
    "# plot the precision recall curve\n",
    "for category in categories:\n",
    "    sns.lineplot(\n",
    "        x=recalls[category],\n",
    "        y=precisions[category],\n",
    "        label=gt_annos[\"categories\"][category][\"name\"],\n",
    "        \n",
    "    )\n",
    "\n",
    "\n"
   ]
  },
  {
   "cell_type": "code",
   "execution_count": null,
   "metadata": {},
   "outputs": [],
   "source": []
  }
 ],
 "metadata": {
  "kernelspec": {
   "display_name": ".venv",
   "language": "python",
   "name": "python3"
  },
  "language_info": {
   "codemirror_mode": {
    "name": "ipython",
    "version": 3
   },
   "file_extension": ".py",
   "mimetype": "text/x-python",
   "name": "python",
   "nbconvert_exporter": "python",
   "pygments_lexer": "ipython3",
   "version": "3.10.6"
  },
  "orig_nbformat": 4,
  "vscode": {
   "interpreter": {
    "hash": "380e300ba82da95e79c6f9887c8bef49af0158d61ab6d1877b5661bed5856e84"
   }
  }
 },
 "nbformat": 4,
 "nbformat_minor": 2
}
