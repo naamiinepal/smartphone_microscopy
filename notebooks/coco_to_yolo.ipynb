{
 "cells": [
  {
   "cell_type": "code",
   "execution_count": 1,
   "metadata": {},
   "outputs": [],
   "source": [
    "import json\n",
    "import cv2\n",
    "import os\n",
    "import matplotlib.pyplot as plt\n",
    "import shutil\n",
    "import pandas as pd\n",
    "from tqdm import tqdm"
   ]
  },
  {
   "cell_type": "code",
   "execution_count": 2,
   "metadata": {},
   "outputs": [],
   "source": [
    "sample_type = \"smartphone_sample_test\""
   ]
  },
  {
   "cell_type": "code",
   "execution_count": 3,
   "metadata": {},
   "outputs": [],
   "source": [
    "input_path = f\"/mnt/Enterprise/safal/AI_assisted_microscopy_system/cysts_dataset_all/{sample_type}\"\n",
    "output_path = f\"/mnt/Enterprise/safal/AI_assisted_microscopy_system/yolov8/{sample_type}\"\n"
   ]
  },
  {
   "cell_type": "code",
   "execution_count": 4,
   "metadata": {},
   "outputs": [
    {
     "name": "stdout",
     "output_type": "stream",
     "text": [
      "Processing split test\n"
     ]
    },
    {
     "name": "stderr",
     "output_type": "stream",
     "text": [
      "100%|██████████| 193/193 [00:42<00:00,  4.50it/s]\n"
     ]
    },
    {
     "name": "stdout",
     "output_type": "stream",
     "text": [
      "Finished copying images\n"
     ]
    },
    {
     "name": "stderr",
     "output_type": "stream",
     "text": [
      " 35%|███▌      | 68/193 [00:13<00:31,  3.97it/s]Invalid SOS parameters for sequential JPEG\n",
      " 36%|███▌      | 69/193 [00:13<00:30,  4.02it/s]Invalid SOS parameters for sequential JPEG\n",
      " 39%|███▉      | 75/193 [00:14<00:21,  5.43it/s]Invalid SOS parameters for sequential JPEG\n",
      " 46%|████▌     | 89/193 [00:16<00:17,  5.95it/s]Invalid SOS parameters for sequential JPEG\n",
      "100%|██████████| 193/193 [00:32<00:00,  5.88it/s]\n"
     ]
    }
   ],
   "source": [
    "# for fold in range(1, 6):\n",
    "# print(f\"Processing fold {fold}\")\n",
    "# in_fold_path = os.path.join(input_path, f\"fold_{fold}\")\n",
    "# out_fold_path = os.path.join(output_path, f\"fold_{fold}\")\n",
    "\n",
    "# for split in [\"train\", \"val\"]:\n",
    "for split in [\"test\"]:\n",
    "    print(f\"Processing split {split}\")\n",
    "    # coco_annos_file = os.path.join(input_path, f\"{sample_type}_coco_annos_{split}.json\")\n",
    "    coco_annos_file = os.path.join(input_path, f\"{sample_type}_coco_annos.json\")\n",
    "    coco_annos_file = json.load(open(coco_annos_file, \"r\"))\n",
    "\n",
    "    images_df = pd.DataFrame(coco_annos_file[\"images\"])\n",
    "    images_df[\"file_name\"] = images_df[\"file_name\"].apply(lambda x: x.split(\"/\")[-1])\n",
    "\n",
    "    out_images_path = os.path.join(output_path, split, \"images\")\n",
    "    out_labels_path = os.path.join(output_path, split, \"labels\")\n",
    "    os.makedirs(out_images_path, exist_ok=True)\n",
    "    os.makedirs(out_labels_path, exist_ok=True)\n",
    "\n",
    "    for image in tqdm(images_df[\"file_name\"].values):\n",
    "        # shutil.copy(os.path.join(input_path, \"train\", image), out_images_path)\n",
    "        shutil.copy(os.path.join(input_path, \"test\", image), out_images_path) # this is for test images\n",
    "\n",
    "    \n",
    "    print(\"Finished copying images\")\n",
    "\n",
    "    annotations_df = pd.DataFrame(coco_annos_file[\"annotations\"])\n",
    "\n",
    "    for image in tqdm(images_df[\"file_name\"].values):\n",
    "        # img_file = os.path.join(input_path, \"train\", image)\n",
    "        img_file = os.path.join(input_path, \"test\", image)\n",
    "\n",
    "        img = cv2.imread(img_file)\n",
    "        img_id = image.split(\".\")[0]\n",
    "        img_id_int = images_df[images_df[\"file_name\"] == image][\"id\"].values[0]\n",
    "        img_height, img_width, _ = img.shape\n",
    "\n",
    "        img_annos = annotations_df[annotations_df[\"image_id\"] == images_df[images_df[\"file_name\"] == image][\"id\"].values[0]].to_dict(\"records\")\n",
    "\n",
    "        if len(img_annos):\n",
    "            out_file = os.path.join(out_labels_path, f\"{img_id}.txt\")\n",
    "            os.makedirs(os.path.dirname(out_file), exist_ok=True)\n",
    "            with open(out_file, \"w\") as f:\n",
    "                for anno in img_annos:\n",
    "                    x = anno[\"bbox\"][0]\n",
    "                    y = anno[\"bbox\"][1]\n",
    "                    w = anno[\"bbox\"][2]\n",
    "                    h = anno[\"bbox\"][3]\n",
    "\n",
    "                    x_center = (x + w/2)/img_width\n",
    "                    y_center = (y + h/2)/img_height\n",
    "                    w = w/img_width\n",
    "                    h = h/img_height\n",
    "\n",
    "                    f.write(f\"{anno['category_id']} {x_center} {y_center} {w} {h}\\n\")\n"
   ]
  },
  {
   "cell_type": "code",
   "execution_count": null,
   "metadata": {},
   "outputs": [],
   "source": []
  }
 ],
 "metadata": {
  "kernelspec": {
   "display_name": ".venv",
   "language": "python",
   "name": ".venv"
  },
  "language_info": {
   "codemirror_mode": {
    "name": "ipython",
    "version": 3
   },
   "file_extension": ".py",
   "mimetype": "text/x-python",
   "name": "python",
   "nbconvert_exporter": "python",
   "pygments_lexer": "ipython3",
   "version": "3.10.6"
  },
  "orig_nbformat": 4
 },
 "nbformat": 4,
 "nbformat_minor": 2
}
