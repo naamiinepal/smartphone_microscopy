{
 "cells": [
  {
   "cell_type": "code",
   "execution_count": 2,
   "metadata": {},
   "outputs": [],
   "source": [
    "from torchvision.ops import box_iou\n",
    "import os\n",
    "import pandas as pd\n",
    "import json\n",
    "import torch\n",
    "import seaborn as sns\n",
    "import matplotlib.pyplot as plt"
   ]
  },
  {
   "cell_type": "code",
   "execution_count": 3,
   "metadata": {},
   "outputs": [],
   "source": [
    "BASE_DIR = \"/mnt/Enterprise/safal/AI_assisted_microscopy_system/\"\n",
    "sample_types = [\"smartphone_sample\", \"smartphone_reference\", \"brightfield_sample\", \"brightfield_reference\"]\n",
    "model_type = \"retinanet\""
   ]
  },
  {
   "cell_type": "code",
   "execution_count": 467,
   "metadata": {},
   "outputs": [],
   "source": [
    "def calculate_precision_recall_f1(pred_annotations_file, gt_annotations_file):\n",
    "    # Precision x Recall is obtained individually by each class\n",
    "    # Loop through each class and calculate the precision and recall\n",
    "\n",
    "    # Precision = TP / (TP + FP)\n",
    "    # Recall = TP / (TP + FN)\n",
    "    gt_annotations = json.load(open(gt_annotations_file))\n",
    "    pred_annotations = json.load(open(pred_annotations_file))\n",
    "\n",
    "    gt_annotations_df = pd.DataFrame(gt_annotations[\"annotations\"])\n",
    "    pred_annotations_df = pd.DataFrame(pred_annotations)\n",
    "\n",
    "    # change bbox width and height to x2, y2\n",
    "    pred_annotations_df[\"bbox\"] = pred_annotations_df[\"bbox\"].apply(\n",
    "        lambda x: [x[0], x[1], x[0] + x[2], x[1] + x[3]]\n",
    "    )\n",
    "    gt_annotations_df[\"bbox\"] = gt_annotations_df[\"bbox\"].apply(\n",
    "        lambda x: [x[0], x[1], x[0] + x[2], x[1] + x[3]]\n",
    "    )\n",
    "\n",
    "    categories = sorted(gt_annotations_df.category_id.unique())\n",
    "\n",
    "    # dataframe to store the precision, recall and f1 score for each class\n",
    "    metrics_df = pd.DataFrame(\n",
    "        columns=[\"category\", \"precision\", \"recall\", \"f1_score\", \"TP\", \"FP\"]\n",
    "    )\n",
    "\n",
    "    precisions = dict((category, []) for category in categories)\n",
    "    recalls = dict((category, []) for category in categories)\n",
    "    confidence_scores = dict((category, []) for category in categories)\n",
    "\n",
    "    for category in categories:\n",
    "        # get the ground truth annotations for the current class\n",
    "        gt_annotations_df_class = gt_annotations_df[\n",
    "            gt_annotations_df.category_id == category\n",
    "        ]\n",
    "        # get the predicted annotations for the current class\n",
    "        pred_annotations_df_class = pred_annotations_df[\n",
    "            pred_annotations_df.category_id == category\n",
    "        ]\n",
    "\n",
    "        # sort the predicted annotations by score\n",
    "        pred_annotations_df_class = pred_annotations_df_class.sort_values(\n",
    "            by=\"score\", ascending=False\n",
    "        )\n",
    "\n",
    "        # filter predictions with score > 0.3\n",
    "        # pred_annotations_df_class = pred_annotations_df_class[\n",
    "        #     pred_annotations_df_class.score > 0.5\n",
    "        # ]\n",
    "\n",
    "        true_positives_class = 0\n",
    "        false_positives_class = 0\n",
    "\n",
    "        # get image ids for the current class from both ground truth and predicted annotations\n",
    "        image_ids = pred_annotations_df_class[\"image_id\"].unique()\n",
    "        images_len = len(image_ids)\n",
    "\n",
    "        for image in image_ids:\n",
    "            # get the ground truth annotations for the current image\n",
    "            gt_annotations_df_image = gt_annotations_df_class[\n",
    "                gt_annotations_df_class.image_id == image\n",
    "            ]\n",
    "            # get the predicted annotations for the current image\n",
    "            pred_annotations_df_image = pred_annotations_df_class[\n",
    "                pred_annotations_df_class.image_id == image\n",
    "            ]\n",
    "\n",
    "            # get the ground truth bounding boxes\n",
    "            gt_bboxes = list(gt_annotations_df_image.bbox.values)\n",
    "            gt_bboxes = torch.tensor(gt_bboxes)\n",
    "\n",
    "            # get the predicted bounding boxes\n",
    "            pred_bboxes = list(pred_annotations_df_image.bbox.values)\n",
    "            pred_bboxes = torch.tensor(pred_bboxes)\n",
    "\n",
    "            # get the confidence scores\n",
    "            confidence_scores[category].extend(\n",
    "                list(pred_annotations_df_image.score.values)\n",
    "            )\n",
    "            if len(gt_bboxes) == 0:\n",
    "                false_positives_class += len(pred_bboxes)\n",
    "                precisions[category].append(\n",
    "                    true_positives_class\n",
    "                    / (true_positives_class + false_positives_class)\n",
    "                )\n",
    "                recalls[category].append(\n",
    "                    true_positives_class / gt_annotations_df_class.shape[0]\n",
    "                )\n",
    "                continue\n",
    "\n",
    "            # get the intersection over union for each predicted bounding box\n",
    "            ious = box_iou(pred_bboxes, gt_bboxes)\n",
    "\n",
    "            # get the maximum iou for each ground truth bounding box\n",
    "            max_ious, _ = torch.max(ious, dim=0)\n",
    "\n",
    "            # get the indices of the predicted bounding boxes with iou > 0.5\n",
    "            tp_indices = torch.where(max_ious >= 0.5)[0]\n",
    "            # print(ious)\n",
    "\n",
    "            # get the indices of the predicted bounding boxes with iou < 0.5\n",
    "            fp_indices = torch.where(max_ious < 0.5)[0]\n",
    "\n",
    "            # update the true positives and false positives\n",
    "            true_positives_class += len(tp_indices)\n",
    "            false_positives_class += len(fp_indices)\n",
    "            precisions[category].append(\n",
    "                true_positives_class / (true_positives_class + false_positives_class)\n",
    "            )\n",
    "            recalls[category].append(\n",
    "                true_positives_class / gt_annotations_df_class.shape[0]\n",
    "            )\n",
    "\n",
    "        # calculate the precision and recall\n",
    "        precision = true_positives_class / (\n",
    "            true_positives_class + false_positives_class\n",
    "        )\n",
    "        recall = true_positives_class / gt_annotations_df_class.shape[0]\n",
    "\n",
    "        category_name = gt_annotations[\"categories\"][category][\"name\"]\n",
    "        f1_score = 2 * (precision * recall) / (precision + recall)\n",
    "\n",
    "        category_metrics_df = pd.DataFrame(\n",
    "            {\n",
    "                \"category\": category_name,\n",
    "                \"precision\": precision,\n",
    "                \"recall\": recall,\n",
    "                \"f1_score\": f1_score,\n",
    "                \"TP\": true_positives_class,\n",
    "                \"FP\": false_positives_class,\n",
    "            },\n",
    "            index=[0],\n",
    "        )\n",
    "\n",
    "        # concatenate the metrics for the current class to the metrics dataframe\n",
    "        metrics_df = pd.concat([metrics_df, category_metrics_df], axis=0)\n",
    "\n",
    "    return metrics_df, precisions, recalls, confidence_scores\n"
   ]
  },
  {
   "attachments": {},
   "cell_type": "markdown",
   "metadata": {},
   "source": [
    "## Combine metrics from all folds into a single csv"
   ]
  },
  {
   "cell_type": "code",
   "execution_count": null,
   "metadata": {},
   "outputs": [],
   "source": [
    "# combine metrics from all folds into single csv with mean and variance\n",
    "for sample_type in sample_types:\n",
    "    metrics_df_all = None\n",
    "    for fold in range(1, 6):\n",
    "        gt_annotation_file = os.path.join(\n",
    "            BASE_DIR,\n",
    "            f\"cysts_dataset_all/{sample_type}/fold_{fold}/{sample_type}_coco_annos_val.json\",\n",
    "        )\n",
    "\n",
    "        pred_annotation_file = os.path.join(\n",
    "            BASE_DIR,\n",
    "            f\"outputs/{sample_type}/{model_type}/fold_{fold}/results.bbox.json\"\n",
    "        )\n",
    "        if not os.path.exists(pred_annotation_file):\n",
    "            continue\n",
    "\n",
    "        metrics_file = os.path.join(\n",
    "            BASE_DIR,\n",
    "            f\"outputs/{sample_type}/{model_type}/fold_{fold}/metrics_pr.csv\"\n",
    "        )\n",
    "        metrics_df = calculate_precision_recall_f1(pred_annotation_file, gt_annotation_file)\n",
    "        \n",
    "        if fold == 1:\n",
    "            metrics_df_all = metrics_df\n",
    "        else:\n",
    "            metrics_df_all = pd.concat([metrics_df_all, metrics_df], ignore_index=True)\n",
    "    \n",
    "    # calculate class wise mean and standard deviation\n",
    "    metrics_df_all = metrics_df_all.groupby(\"category\").agg(\n",
    "        {\n",
    "            \"precision\": [\"mean\", \"std\"],\n",
    "            \"recall\": [\"mean\", \"std\"],\n",
    "            \"f1_score\": [\"mean\", \"std\"],\n",
    "        }\n",
    "    )\n",
    "    metrics_df_all.columns = [\"_\".join(x) for x in metrics_df_all.columns]\n",
    "    metrics_df_all = metrics_df_all.reset_index()\n",
    "    # metrics_df_all.to_csv(\n",
    "    #     os.path.join(BASE_DIR, f\"outputs/{sample_type}/{model_type}/metrics_pr.csv\"),\n",
    "    #     index=False,\n",
    "    #     float_format=\"%.3f\",\n",
    "    # )\n",
    "    print(\"sample_type: \", sample_type)\n",
    "    print(metrics_df_all)\n",
    "\n",
    "\n"
   ]
  },
  {
   "attachments": {},
   "cell_type": "markdown",
   "metadata": {},
   "source": [
    "## Plotting PR Curve"
   ]
  },
  {
   "cell_type": "code",
   "execution_count": 469,
   "metadata": {},
   "outputs": [],
   "source": [
    "sample_type = \"brightfield_sample\"\n",
    "metrics_df_all = None\n",
    "precisions_giardia_all = None\n",
    "recalls_giardia_all = None\n",
    "precisions_crypto_all = None\n",
    "recalls_crypto_all = None\n",
    "confidence_scores_giardia_all = None\n",
    "confidence_scores_crypto_all = None\n"
   ]
  },
  {
   "cell_type": "code",
   "execution_count": 470,
   "metadata": {},
   "outputs": [],
   "source": [
    "for fold in range(1, 6):\n",
    "    gt_annotation_file = os.path.join(\n",
    "        BASE_DIR,\n",
    "        f\"cysts_dataset_all/{sample_type}/fold_{fold}/{sample_type}_coco_annos_val.json\",\n",
    "    )\n",
    "\n",
    "    pred_annotation_file = os.path.join(\n",
    "        BASE_DIR,\n",
    "        f\"outputs/{sample_type}/{model_type}/fold_{fold}/results.bbox.json\"\n",
    "    )\n",
    "    if not os.path.exists(pred_annotation_file):\n",
    "        continue\n",
    "    metrics_df, precisions, recalls, confidence_scores = calculate_precision_recall_f1(pred_annotation_file, gt_annotation_file)\n",
    "\n",
    "    crypto_prec_df = pd.DataFrame(precisions[0])\n",
    "    crypto_rec_df = pd.DataFrame(recalls[0])\n",
    "    crypto_conf_df = pd.DataFrame(confidence_scores[0])\n",
    "    crypto_prec_df.columns = [f\"precision\"]\n",
    "    crypto_rec_df.columns = [f\"recall\"]\n",
    "    crypto_conf_df.columns = [f\"confidence\"]\n",
    "\n",
    "    giardia_prec_df = pd.DataFrame(precisions[1])\n",
    "    giardia_rec_df = pd.DataFrame(recalls[1])\n",
    "    giardia_conf_df = pd.DataFrame(confidence_scores[1])\n",
    "    giardia_prec_df.columns = [f\"precision\"]\n",
    "    giardia_rec_df.columns = [f\"recall\"]\n",
    "    giardia_conf_df.columns = [f\"confidence\"]\n",
    "\n",
    "    precisions_giardia_all = pd.concat([precisions_giardia_all, giardia_prec_df])\n",
    "    recalls_giardia_all = pd.concat([recalls_giardia_all, giardia_rec_df])\n",
    "    precisions_crypto_all = pd.concat([precisions_crypto_all, crypto_prec_df])\n",
    "    recalls_crypto_all = pd.concat([recalls_crypto_all, crypto_rec_df])\n",
    "    confidence_scores_giardia_all = pd.concat([confidence_scores_giardia_all, giardia_conf_df])\n",
    "    confidence_scores_crypto_all = pd.concat([confidence_scores_crypto_all, crypto_conf_df])\n",
    "\n",
    "\n"
   ]
  },
  {
   "cell_type": "code",
   "execution_count": 472,
   "metadata": {},
   "outputs": [
    {
     "data": {
      "text/html": [
       "<div>\n",
       "<style scoped>\n",
       "    .dataframe tbody tr th:only-of-type {\n",
       "        vertical-align: middle;\n",
       "    }\n",
       "\n",
       "    .dataframe tbody tr th {\n",
       "        vertical-align: top;\n",
       "    }\n",
       "\n",
       "    .dataframe thead th {\n",
       "        text-align: right;\n",
       "    }\n",
       "</style>\n",
       "<table border=\"1\" class=\"dataframe\">\n",
       "  <thead>\n",
       "    <tr style=\"text-align: right;\">\n",
       "      <th></th>\n",
       "      <th>precision</th>\n",
       "    </tr>\n",
       "  </thead>\n",
       "  <tbody>\n",
       "    <tr>\n",
       "      <th>0</th>\n",
       "      <td>1.000000</td>\n",
       "    </tr>\n",
       "    <tr>\n",
       "      <th>1</th>\n",
       "      <td>1.000000</td>\n",
       "    </tr>\n",
       "    <tr>\n",
       "      <th>2</th>\n",
       "      <td>1.000000</td>\n",
       "    </tr>\n",
       "    <tr>\n",
       "      <th>3</th>\n",
       "      <td>1.000000</td>\n",
       "    </tr>\n",
       "    <tr>\n",
       "      <th>4</th>\n",
       "      <td>1.000000</td>\n",
       "    </tr>\n",
       "    <tr>\n",
       "      <th>...</th>\n",
       "      <td>...</td>\n",
       "    </tr>\n",
       "    <tr>\n",
       "      <th>194</th>\n",
       "      <td>0.415301</td>\n",
       "    </tr>\n",
       "    <tr>\n",
       "      <th>195</th>\n",
       "      <td>0.411924</td>\n",
       "    </tr>\n",
       "    <tr>\n",
       "      <th>196</th>\n",
       "      <td>0.407507</td>\n",
       "    </tr>\n",
       "    <tr>\n",
       "      <th>197</th>\n",
       "      <td>0.404255</td>\n",
       "    </tr>\n",
       "    <tr>\n",
       "      <th>198</th>\n",
       "      <td>0.403183</td>\n",
       "    </tr>\n",
       "  </tbody>\n",
       "</table>\n",
       "<p>988 rows × 1 columns</p>\n",
       "</div>"
      ],
      "text/plain": [
       "     precision\n",
       "0     1.000000\n",
       "1     1.000000\n",
       "2     1.000000\n",
       "3     1.000000\n",
       "4     1.000000\n",
       "..         ...\n",
       "194   0.415301\n",
       "195   0.411924\n",
       "196   0.407507\n",
       "197   0.404255\n",
       "198   0.403183\n",
       "\n",
       "[988 rows x 1 columns]"
      ]
     },
     "execution_count": 472,
     "metadata": {},
     "output_type": "execute_result"
    }
   ],
   "source": []
  },
  {
   "cell_type": "code",
   "execution_count": 460,
   "metadata": {},
   "outputs": [],
   "source": [
    "# combine precisions for giardia with same indexes\n",
    "precisions_giardia_all = precisions_giardia_all.groupby(precisions_giardia_all.index).mean()\n",
    "recalls_giardia_all = recalls_giardia_all.groupby(recalls_giardia_all.index).mean()\n",
    "precisions_crypto_all = precisions_crypto_all.groupby(precisions_crypto_all.index).mean()\n",
    "recalls_crypto_all = recalls_crypto_all.groupby(recalls_crypto_all.index).mean()"
   ]
  },
  {
   "cell_type": "code",
   "execution_count": 461,
   "metadata": {},
   "outputs": [
    {
     "data": {
      "text/plain": [
       "<AxesSubplot: ylabel='precision'>"
      ]
     },
     "execution_count": 461,
     "metadata": {},
     "output_type": "execute_result"
    },
    {
     "data": {
      "image/png": "[encoded data removed]",
      "text/plain": [
       "<Figure size 640x480 with 1 Axes>"
      ]
     },
     "metadata": {},
     "output_type": "display_data"
    }
   ],
   "source": [
    "sns.lineplot(data=precisions_giardia_all, x=precisions_giardia_all.index, y=\"precision\")"
   ]
  },
  {
   "cell_type": "code",
   "execution_count": 462,
   "metadata": {},
   "outputs": [],
   "source": [
    "# plot giardia and crypto pr curves for the given sample type\n",
    "giardia_metrics_df = pd.DataFrame(\n",
    "    {\n",
    "        \"precision\": precisions_giardia_all[\"precision\"],\n",
    "        \"recall\": recalls_giardia_all[\"recall\"],\n",
    "    }\n",
    ")\n",
    "\n",
    "crypto_metrics_df = pd.DataFrame(\n",
    "    {\n",
    "        \"precision\": precisions_crypto_all[\"precision\"],\n",
    "        \"recall\": recalls_crypto_all[\"recall\"],\n",
    "    }\n",
    ")"
   ]
  },
  {
   "cell_type": "code",
   "execution_count": 464,
   "metadata": {},
   "outputs": [],
   "source": [
    "# calculate f1 score\n",
    "giardia_metrics_df[\"f1_score\"] = (\n",
    "    2 * giardia_metrics_df[\"precision\"] * giardia_metrics_df[\"recall\"]\n",
    ") / (giardia_metrics_df[\"precision\"] + giardia_metrics_df[\"recall\"])\n",
    "\n",
    "crypto_metrics_df[\"f1_score\"] = (\n",
    "    2 * crypto_metrics_df[\"precision\"] * crypto_metrics_df[\"recall\"]\n",
    ") / (crypto_metrics_df[\"precision\"] + crypto_metrics_df[\"recall\"])\n"
   ]
  },
  {
   "cell_type": "code",
   "execution_count": 465,
   "metadata": {},
   "outputs": [],
   "source": [
    "# get index for the best f1 score\n",
    "giardia_best_f1_index = giardia_metrics_df[\"f1_score\"].idxmax()\n",
    "crypto_best_f1_index = crypto_metrics_df[\"f1_score\"].idxmax()"
   ]
  },
  {
   "cell_type": "code",
   "execution_count": 476,
   "metadata": {},
   "outputs": [
    {
     "data": {
      "text/plain": [
       "100"
      ]
     },
     "execution_count": 476,
     "metadata": {},
     "output_type": "execute_result"
    }
   ],
   "source": [
    "crypto_best_f1_index"
   ]
  },
  {
   "cell_type": "code",
   "execution_count": 463,
   "metadata": {},
   "outputs": [
    {
     "data": {
      "image/png": "[encoded data removed]",
      "text/plain": [
       "<Figure size 640x480 with 1 Axes>"
      ]
     },
     "metadata": {},
     "output_type": "display_data"
    }
   ],
   "source": [
    "# plot giardia and crypto pr curves for the given sample type\n",
    "sns.lineplot(data=giardia_metrics_df, x=\"recall\", y=\"precision\", label=\"Giardia\")\n",
    "sns.lineplot(data=crypto_metrics_df, x=\"recall\", y=\"precision\", label=\"Cryptosporidium\")\n",
    "plt.xlabel(\"Recall\")\n",
    "plt.ylabel(\"Precision\")\n",
    "plt.title(f\"Precision-Recall Curve for {sample_type} using {model_type}\")\n",
    "plt.savefig(\n",
    "    os.path.join(\n",
    "        BASE_DIR,\n",
    "        f\"outputs/{sample_type}/{model_type}/pr_curve.png\",\n",
    "    ),\n",
    "    dpi=300,\n",
    "    bbox_inches=\"tight\",\n",
    ")"
   ]
  },
  {
   "cell_type": "code",
   "execution_count": null,
   "metadata": {},
   "outputs": [],
   "source": []
  }
 ],
 "metadata": {
  "kernelspec": {
   "display_name": ".venv",
   "language": "python",
   "name": ".venv"
  },
  "language_info": {
   "codemirror_mode": {
    "name": "ipython",
    "version": 3
   },
   "file_extension": ".py",
   "mimetype": "text/x-python",
   "name": "python",
   "nbconvert_exporter": "python",
   "pygments_lexer": "ipython3",
   "version": "3.10.6"
  },
  "orig_nbformat": 4
 },
 "nbformat": 4,
 "nbformat_minor": 2
}
